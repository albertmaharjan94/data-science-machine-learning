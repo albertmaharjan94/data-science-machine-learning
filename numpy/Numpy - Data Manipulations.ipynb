{
 "cells": [
  {
   "cell_type": "markdown",
   "id": "ba18d9d5",
   "metadata": {},
   "source": [
    "# Manipulating and comparing arrays"
   ]
  },
  {
   "cell_type": "markdown",
   "id": "60d7be5c",
   "metadata": {},
   "source": [
    "### Arithmetic"
   ]
  },
  {
   "cell_type": "code",
   "execution_count": 1,
   "id": "e42cbefa",
   "metadata": {},
   "outputs": [],
   "source": [
    "import numpy as np"
   ]
  },
  {
   "cell_type": "code",
   "execution_count": 2,
   "id": "df46c365",
   "metadata": {},
   "outputs": [],
   "source": [
    "ones = np.ones(3)"
   ]
  },
  {
   "cell_type": "code",
   "execution_count": 3,
   "id": "efa95b7d",
   "metadata": {},
   "outputs": [
    {
     "data": {
      "text/plain": [
       "array([1., 1., 1.])"
      ]
     },
     "execution_count": 3,
     "metadata": {},
     "output_type": "execute_result"
    }
   ],
   "source": [
    "ones"
   ]
  },
  {
   "cell_type": "code",
   "execution_count": 4,
   "id": "0a1a1d3c",
   "metadata": {},
   "outputs": [],
   "source": [
    "a1 = np.array([1,2,3])"
   ]
  },
  {
   "cell_type": "code",
   "execution_count": 5,
   "id": "4cdfc9e6",
   "metadata": {},
   "outputs": [
    {
     "data": {
      "text/plain": [
       "array([1, 2, 3])"
      ]
     },
     "execution_count": 5,
     "metadata": {},
     "output_type": "execute_result"
    }
   ],
   "source": [
    "a1"
   ]
  },
  {
   "cell_type": "code",
   "execution_count": 6,
   "id": "476dbfae",
   "metadata": {},
   "outputs": [
    {
     "data": {
      "text/plain": [
       "array([2., 3., 4.])"
      ]
     },
     "execution_count": 6,
     "metadata": {},
     "output_type": "execute_result"
    }
   ],
   "source": [
    "a1+ones"
   ]
  },
  {
   "cell_type": "code",
   "execution_count": 7,
   "id": "c4880f2d",
   "metadata": {},
   "outputs": [
    {
     "data": {
      "text/plain": [
       "array([0., 1., 2.])"
      ]
     },
     "execution_count": 7,
     "metadata": {},
     "output_type": "execute_result"
    }
   ],
   "source": [
    "a1-ones"
   ]
  },
  {
   "cell_type": "code",
   "execution_count": 8,
   "id": "d4e77497",
   "metadata": {},
   "outputs": [
    {
     "data": {
      "text/plain": [
       "array([3, 4, 5])"
      ]
     },
     "execution_count": 8,
     "metadata": {},
     "output_type": "execute_result"
    }
   ],
   "source": [
    "a1+2"
   ]
  },
  {
   "cell_type": "code",
   "execution_count": 9,
   "id": "6f62ac16",
   "metadata": {},
   "outputs": [
    {
     "data": {
      "text/plain": [
       "array([1., 2., 3.])"
      ]
     },
     "execution_count": 9,
     "metadata": {},
     "output_type": "execute_result"
    }
   ],
   "source": [
    "a1*ones"
   ]
  },
  {
   "cell_type": "code",
   "execution_count": 10,
   "id": "9df8fb36",
   "metadata": {},
   "outputs": [],
   "source": [
    "a2 = np.array([[2,3,4],[8,9,10]])"
   ]
  },
  {
   "cell_type": "code",
   "execution_count": 11,
   "id": "9a454b33",
   "metadata": {},
   "outputs": [
    {
     "data": {
      "text/plain": [
       "array([[ 2,  3,  4],\n",
       "       [ 8,  9, 10]])"
      ]
     },
     "execution_count": 11,
     "metadata": {},
     "output_type": "execute_result"
    }
   ],
   "source": [
    "a2"
   ]
  },
  {
   "cell_type": "code",
   "execution_count": 12,
   "id": "13791a66",
   "metadata": {},
   "outputs": [
    {
     "data": {
      "text/plain": [
       "array([[ 3,  5,  7],\n",
       "       [ 9, 11, 13]])"
      ]
     },
     "execution_count": 12,
     "metadata": {},
     "output_type": "execute_result"
    }
   ],
   "source": [
    "a1+a2"
   ]
  },
  {
   "cell_type": "code",
   "execution_count": 13,
   "id": "57dc0f61",
   "metadata": {},
   "outputs": [],
   "source": [
    "a3 = np.array([[[1,2,3],\n",
    "                [4,5,6],\n",
    "                [7,8,9]],\n",
    "               [[10,11,12],\n",
    "                [13,14,15],\n",
    "                [16,17,18]]])"
   ]
  },
  {
   "cell_type": "code",
   "execution_count": 14,
   "id": "c8455032",
   "metadata": {},
   "outputs": [],
   "source": [
    "# a2+a3"
   ]
  },
  {
   "cell_type": "code",
   "execution_count": 15,
   "id": "1ecbc350",
   "metadata": {},
   "outputs": [
    {
     "data": {
      "text/plain": [
       "array([[2.        , 1.5       , 1.33333333],\n",
       "       [8.        , 4.5       , 3.33333333]])"
      ]
     },
     "execution_count": 15,
     "metadata": {},
     "output_type": "execute_result"
    }
   ],
   "source": [
    "a2/a1"
   ]
  },
  {
   "cell_type": "code",
   "execution_count": 16,
   "id": "e52d9fc2",
   "metadata": {},
   "outputs": [
    {
     "data": {
      "text/plain": [
       "array([[2, 1, 1],\n",
       "       [8, 4, 3]], dtype=int32)"
      ]
     },
     "execution_count": 16,
     "metadata": {},
     "output_type": "execute_result"
    }
   ],
   "source": [
    "# // removes decimals\n",
    "a2//a1"
   ]
  },
  {
   "cell_type": "code",
   "execution_count": 17,
   "id": "0f420500",
   "metadata": {},
   "outputs": [
    {
     "data": {
      "text/plain": [
       "array([[  4,   9,  16],\n",
       "       [ 64,  81, 100]], dtype=int32)"
      ]
     },
     "execution_count": 17,
     "metadata": {},
     "output_type": "execute_result"
    }
   ],
   "source": [
    "a2**2"
   ]
  },
  {
   "cell_type": "code",
   "execution_count": 18,
   "id": "3e191437",
   "metadata": {},
   "outputs": [
    {
     "data": {
      "text/plain": [
       "array([[  4,   9,  16],\n",
       "       [ 64,  81, 100]], dtype=int32)"
      ]
     },
     "execution_count": 18,
     "metadata": {},
     "output_type": "execute_result"
    }
   ],
   "source": [
    "np.square(a2)"
   ]
  },
  {
   "cell_type": "code",
   "execution_count": 19,
   "id": "cec3ea58",
   "metadata": {},
   "outputs": [
    {
     "data": {
      "text/plain": [
       "array([[ 3.,  4.,  5.],\n",
       "       [ 9., 10., 11.]])"
      ]
     },
     "execution_count": 19,
     "metadata": {},
     "output_type": "execute_result"
    }
   ],
   "source": [
    "np.add(a2, ones)"
   ]
  },
  {
   "cell_type": "code",
   "execution_count": 20,
   "id": "d2e87010",
   "metadata": {},
   "outputs": [
    {
     "data": {
      "text/plain": [
       "array([[0, 1, 0],\n",
       "       [0, 1, 0]], dtype=int32)"
      ]
     },
     "execution_count": 20,
     "metadata": {},
     "output_type": "execute_result"
    }
   ],
   "source": [
    "np.mod(a2,2)"
   ]
  },
  {
   "cell_type": "code",
   "execution_count": 21,
   "id": "41970fe4",
   "metadata": {},
   "outputs": [
    {
     "data": {
      "text/plain": [
       "array([1, 0, 1], dtype=int32)"
      ]
     },
     "execution_count": 21,
     "metadata": {},
     "output_type": "execute_result"
    }
   ],
   "source": [
    "a1%2"
   ]
  },
  {
   "cell_type": "code",
   "execution_count": 22,
   "id": "317de57b",
   "metadata": {},
   "outputs": [
    {
     "data": {
      "text/plain": [
       "array([ 2.71828183,  7.3890561 , 20.08553692])"
      ]
     },
     "execution_count": 22,
     "metadata": {},
     "output_type": "execute_result"
    }
   ],
   "source": [
    "np.exp(a1)"
   ]
  },
  {
   "cell_type": "code",
   "execution_count": 23,
   "id": "84675aeb",
   "metadata": {},
   "outputs": [
    {
     "data": {
      "text/plain": [
       "array([0.        , 0.69314718, 1.09861229])"
      ]
     },
     "execution_count": 23,
     "metadata": {},
     "output_type": "execute_result"
    }
   ],
   "source": [
    "np.log(a1)"
   ]
  },
  {
   "cell_type": "markdown",
   "id": "70e64403",
   "metadata": {},
   "source": [
    "### Aggregation\n",
    "\n",
    "Performing the same operation on a number of things"
   ]
  },
  {
   "cell_type": "code",
   "execution_count": 24,
   "id": "6c1c856b",
   "metadata": {},
   "outputs": [
    {
     "data": {
      "text/plain": [
       "list"
      ]
     },
     "execution_count": 24,
     "metadata": {},
     "output_type": "execute_result"
    }
   ],
   "source": [
    "_list = [1, 2, 3]\n",
    "type(_list)"
   ]
  },
  {
   "cell_type": "code",
   "execution_count": 25,
   "id": "b5ade126",
   "metadata": {},
   "outputs": [
    {
     "data": {
      "text/plain": [
       "6"
      ]
     },
     "execution_count": 25,
     "metadata": {},
     "output_type": "execute_result"
    }
   ],
   "source": [
    "sum(_list)"
   ]
  },
  {
   "cell_type": "code",
   "execution_count": 26,
   "id": "7333e2bf",
   "metadata": {},
   "outputs": [
    {
     "data": {
      "text/plain": [
       "array([1, 2, 3])"
      ]
     },
     "execution_count": 26,
     "metadata": {},
     "output_type": "execute_result"
    }
   ],
   "source": [
    "a1"
   ]
  },
  {
   "cell_type": "code",
   "execution_count": 27,
   "id": "62ef0004",
   "metadata": {},
   "outputs": [
    {
     "data": {
      "text/plain": [
       "(6, 6)"
      ]
     },
     "execution_count": 27,
     "metadata": {},
     "output_type": "execute_result"
    }
   ],
   "source": [
    "np.sum(a1), sum(a1)"
   ]
  },
  {
   "cell_type": "code",
   "execution_count": 32,
   "id": "eeecb09a",
   "metadata": {},
   "outputs": [],
   "source": [
    "massive_array = np.random.random(1000000)"
   ]
  },
  {
   "cell_type": "code",
   "execution_count": 33,
   "id": "5292d241",
   "metadata": {},
   "outputs": [
    {
     "data": {
      "text/plain": [
       "array([0.95798435, 0.40042735, 0.71003886, ..., 0.61270845, 0.23263948,\n",
       "       0.0455606 ])"
      ]
     },
     "execution_count": 33,
     "metadata": {},
     "output_type": "execute_result"
    }
   ],
   "source": [
    "massive_array"
   ]
  },
  {
   "cell_type": "code",
   "execution_count": 34,
   "id": "f3f0fde3",
   "metadata": {},
   "outputs": [
    {
     "name": "stdout",
     "output_type": "stream",
     "text": [
      "64.4 ms ± 745 µs per loop (mean ± std. dev. of 7 runs, 10 loops each)\n"
     ]
    }
   ],
   "source": [
    "%timeit sum(massive_array)"
   ]
  },
  {
   "cell_type": "code",
   "execution_count": 35,
   "id": "2f005661",
   "metadata": {},
   "outputs": [
    {
     "name": "stdout",
     "output_type": "stream",
     "text": [
      "890 µs ± 23.1 µs per loop (mean ± std. dev. of 7 runs, 1000 loops each)\n"
     ]
    }
   ],
   "source": [
    "%timeit np.sum(massive_array)"
   ]
  },
  {
   "cell_type": "code",
   "execution_count": 39,
   "id": "c4efac0d",
   "metadata": {},
   "outputs": [
    {
     "data": {
      "text/plain": [
       "(array([[ 2,  3,  4],\n",
       "        [ 8,  9, 10]]),\n",
       " 6.0)"
      ]
     },
     "execution_count": 39,
     "metadata": {},
     "output_type": "execute_result"
    }
   ],
   "source": [
    "a2, np.mean(a2)"
   ]
  },
  {
   "cell_type": "code",
   "execution_count": 40,
   "id": "d0c16fc6",
   "metadata": {},
   "outputs": [
    {
     "data": {
      "text/plain": [
       "(2, 10)"
      ]
     },
     "execution_count": 40,
     "metadata": {},
     "output_type": "execute_result"
    }
   ],
   "source": [
    "np.min(a2), np.max(a2)"
   ]
  },
  {
   "cell_type": "code",
   "execution_count": 43,
   "id": "24b03e76",
   "metadata": {},
   "outputs": [
    {
     "data": {
      "text/plain": [
       "3.1091263510296048"
      ]
     },
     "execution_count": 43,
     "metadata": {},
     "output_type": "execute_result"
    }
   ],
   "source": [
    "np.std(a2)"
   ]
  },
  {
   "cell_type": "code",
   "execution_count": 44,
   "id": "86c03b13",
   "metadata": {},
   "outputs": [
    {
     "data": {
      "text/plain": [
       "9.666666666666666"
      ]
     },
     "execution_count": 44,
     "metadata": {},
     "output_type": "execute_result"
    }
   ],
   "source": [
    "# variance = measure of the average degree to which each number is different from mean\n",
    "# higher variance = wider range of number\n",
    "# lower variance = lower range of number\n",
    "np.var(a2)"
   ]
  },
  {
   "cell_type": "code",
   "execution_count": 46,
   "id": "68264da0",
   "metadata": {},
   "outputs": [
    {
     "data": {
      "text/plain": [
       "3.1091263510296048"
      ]
     },
     "execution_count": 46,
     "metadata": {},
     "output_type": "execute_result"
    }
   ],
   "source": [
    "# standard deviance = squreroot of variance\n",
    "np.sqrt(np.var(a2))"
   ]
  },
  {
   "cell_type": "markdown",
   "id": "5022c330",
   "metadata": {},
   "source": [
    "### Standard deviation and variance"
   ]
  },
  {
   "cell_type": "code",
   "execution_count": 55,
   "id": "b41d0288",
   "metadata": {},
   "outputs": [],
   "source": [
    "high_var_array = np.array([1,100,200,300,4000,5000])\n",
    "low_var_array = np.array([2,4,6,8,10])\n"
   ]
  },
  {
   "cell_type": "code",
   "execution_count": 56,
   "id": "7d2e9242",
   "metadata": {},
   "outputs": [
    {
     "data": {
      "text/plain": [
       "(4296133.472222221, 8.0)"
      ]
     },
     "execution_count": 56,
     "metadata": {},
     "output_type": "execute_result"
    }
   ],
   "source": [
    "np.var(high_var_array), np.var(low_var_array)"
   ]
  },
  {
   "cell_type": "code",
   "execution_count": 57,
   "id": "cb5735f5",
   "metadata": {},
   "outputs": [
    {
     "data": {
      "text/plain": [
       "(2072.711623024829, 2.8284271247461903)"
      ]
     },
     "execution_count": 57,
     "metadata": {},
     "output_type": "execute_result"
    }
   ],
   "source": [
    "np.std(high_var_array), np.std(low_var_array)"
   ]
  },
  {
   "cell_type": "code",
   "execution_count": 60,
   "id": "e412d591",
   "metadata": {},
   "outputs": [
    {
     "data": {
      "text/plain": [
       "(1600.1666666666667, 6.0)"
      ]
     },
     "execution_count": 60,
     "metadata": {},
     "output_type": "execute_result"
    }
   ],
   "source": [
    "np.mean(high_var_array), np.mean(low_var_array)"
   ]
  },
  {
   "cell_type": "code",
   "execution_count": 65,
   "id": "2bb6ee0b",
   "metadata": {},
   "outputs": [
    {
     "data": {
      "image/png": "[encoded data removed]",
      "text/plain": [
       "<Figure size 432x288 with 1 Axes>"
      ]
     },
     "metadata": {
      "needs_background": "light"
     },
     "output_type": "display_data"
    }
   ],
   "source": [
    "%matplotlib inline\n",
    "import matplotlib.pyplot as plt\n",
    "plt.hist(high_var_array)\n",
    "plt.show()"
   ]
  },
  {
   "cell_type": "code",
   "execution_count": 64,
   "id": "1bac974a",
   "metadata": {},
   "outputs": [
    {
     "data": {
      "image/png": "[encoded data removed]",
      "text/plain": [
       "<Figure size 432x288 with 1 Axes>"
      ]
     },
     "metadata": {
      "needs_background": "light"
     },
     "output_type": "display_data"
    }
   ],
   "source": [
    "plt.hist(low_var_array)\n",
    "plt.show()"
   ]
  },
  {
   "cell_type": "code",
   "execution_count": 66,
   "id": "a8c451e5",
   "metadata": {},
   "outputs": [
    {
     "data": {
      "text/plain": [
       "2.0"
      ]
     },
     "execution_count": 66,
     "metadata": {},
     "output_type": "execute_result"
    }
   ],
   "source": [
    "np.var(np.array([1,2,3,4,5]))"
   ]
  },
  {
   "cell_type": "markdown",
   "id": "db70c434",
   "metadata": {},
   "source": [
    "### Reshaping and Transposing"
   ]
  },
  {
   "cell_type": "code",
   "execution_count": 69,
   "id": "4b59c3b7",
   "metadata": {},
   "outputs": [
    {
     "data": {
      "text/plain": [
       "(array([[ 2,  3,  4],\n",
       "        [ 8,  9, 10]]),\n",
       " array([[[ 1,  2,  3],\n",
       "         [ 4,  5,  6],\n",
       "         [ 7,  8,  9]],\n",
       " \n",
       "        [[10, 11, 12],\n",
       "         [13, 14, 15],\n",
       "         [16, 17, 18]]]))"
      ]
     },
     "execution_count": 69,
     "metadata": {},
     "output_type": "execute_result"
    }
   ],
   "source": [
    "a2, a3"
   ]
  },
  {
   "cell_type": "code",
   "execution_count": 70,
   "id": "02743548",
   "metadata": {},
   "outputs": [
    {
     "data": {
      "text/plain": [
       "((2, 3), (2, 3, 3))"
      ]
     },
     "execution_count": 70,
     "metadata": {},
     "output_type": "execute_result"
    }
   ],
   "source": [
    "a2.shape, a3.shape"
   ]
  },
  {
   "cell_type": "code",
   "execution_count": 73,
   "id": "69c12c09",
   "metadata": {},
   "outputs": [
    {
     "data": {
      "text/plain": [
       "array([[[ 2],\n",
       "        [ 3],\n",
       "        [ 4]],\n",
       "\n",
       "       [[ 8],\n",
       "        [ 9],\n",
       "        [10]]])"
      ]
     },
     "execution_count": 73,
     "metadata": {},
     "output_type": "execute_result"
    }
   ],
   "source": [
    "a2_reshape = a2.reshape(2,3,1)\n",
    "a2_reshape"
   ]
  },
  {
   "cell_type": "code",
   "execution_count": 74,
   "id": "c60e3f17",
   "metadata": {},
   "outputs": [
    {
     "data": {
      "text/plain": [
       "((2, 3, 1), (2, 3, 3))"
      ]
     },
     "execution_count": 74,
     "metadata": {},
     "output_type": "execute_result"
    }
   ],
   "source": [
    "a2_reshape.shape, a3.shape"
   ]
  },
  {
   "cell_type": "code",
   "execution_count": 75,
   "id": "2f198e38",
   "metadata": {},
   "outputs": [
    {
     "data": {
      "text/plain": [
       "array([[[  2,   4,   6],\n",
       "        [ 12,  15,  18],\n",
       "        [ 28,  32,  36]],\n",
       "\n",
       "       [[ 80,  88,  96],\n",
       "        [117, 126, 135],\n",
       "        [160, 170, 180]]])"
      ]
     },
     "execution_count": 75,
     "metadata": {},
     "output_type": "execute_result"
    }
   ],
   "source": [
    "a2_reshape * a3"
   ]
  },
  {
   "cell_type": "code",
   "execution_count": 83,
   "id": "ceee2562",
   "metadata": {},
   "outputs": [
    {
     "data": {
      "text/plain": [
       "array([[ 2,  3],\n",
       "       [ 4,  8],\n",
       "       [ 9, 10]])"
      ]
     },
     "execution_count": 83,
     "metadata": {},
     "output_type": "execute_result"
    }
   ],
   "source": [
    "a2.reshape(3,2)"
   ]
  },
  {
   "cell_type": "code",
   "execution_count": 85,
   "id": "35558df5",
   "metadata": {},
   "outputs": [
    {
     "data": {
      "text/plain": [
       "(array([[ 2,  3,  4],\n",
       "        [ 8,  9, 10]]),\n",
       " array([[ 2,  8],\n",
       "        [ 3,  9],\n",
       "        [ 4, 10]]))"
      ]
     },
     "execution_count": 85,
     "metadata": {},
     "output_type": "execute_result"
    }
   ],
   "source": [
    "# Transpose - Swaps the axis\n",
    "a2, a2.T"
   ]
  },
  {
   "cell_type": "code",
   "execution_count": 88,
   "id": "4e27bee0",
   "metadata": {},
   "outputs": [
    {
     "data": {
      "text/plain": [
       "(array([[[ 1,  2,  3],\n",
       "         [ 4,  5,  6],\n",
       "         [ 7,  8,  9]],\n",
       " \n",
       "        [[10, 11, 12],\n",
       "         [13, 14, 15],\n",
       "         [16, 17, 18]]]),\n",
       " (2, 3, 3))"
      ]
     },
     "execution_count": 88,
     "metadata": {},
     "output_type": "execute_result"
    }
   ],
   "source": [
    "a3, a3.shape"
   ]
  },
  {
   "cell_type": "code",
   "execution_count": 89,
   "id": "37427729",
   "metadata": {},
   "outputs": [
    {
     "data": {
      "text/plain": [
       "(array([[[ 1, 10],\n",
       "         [ 4, 13],\n",
       "         [ 7, 16]],\n",
       " \n",
       "        [[ 2, 11],\n",
       "         [ 5, 14],\n",
       "         [ 8, 17]],\n",
       " \n",
       "        [[ 3, 12],\n",
       "         [ 6, 15],\n",
       "         [ 9, 18]]]),\n",
       " (3, 3, 2))"
      ]
     },
     "execution_count": 89,
     "metadata": {},
     "output_type": "execute_result"
    }
   ],
   "source": [
    "a3.T, a3.T.shape"
   ]
  },
  {
   "cell_type": "code",
   "execution_count": 90,
   "id": "8cc3368a",
   "metadata": {},
   "outputs": [],
   "source": [
    "rand = np.random.random((4,5,6,7))"
   ]
  },
  {
   "cell_type": "code",
   "execution_count": 91,
   "id": "02be7ba3",
   "metadata": {},
   "outputs": [
    {
     "data": {
      "text/plain": [
       "array([[[[0.16906641, 0.77526111, 0.46156455, 0.00300138, 0.21504796,\n",
       "          0.6128307 , 0.98887649],\n",
       "         [0.09784324, 0.15865277, 0.60024995, 0.9883661 , 0.08435067,\n",
       "          0.95177793, 0.03994289],\n",
       "         [0.47756746, 0.73727305, 0.51810327, 0.44381919, 0.42871551,\n",
       "          0.68825084, 0.2250001 ],\n",
       "         [0.26622509, 0.32255415, 0.42821931, 0.31614818, 0.92730026,\n",
       "          0.69013552, 0.16033645],\n",
       "         [0.18577009, 0.62580503, 0.78936651, 0.7684376 , 0.80346643,\n",
       "          0.04859874, 0.31375208],\n",
       "         [0.67144685, 0.38785019, 0.49001233, 0.92731683, 0.83365559,\n",
       "          0.58641842, 0.46233229]],\n",
       "\n",
       "        [[0.41197008, 0.94635608, 0.11810668, 0.16765515, 0.38540292,\n",
       "          0.98972538, 0.77224293],\n",
       "         [0.44627881, 0.42790321, 0.57651527, 0.82033304, 0.49400859,\n",
       "          0.48463704, 0.1658647 ],\n",
       "         [0.77947271, 0.8492824 , 0.03213554, 0.25479088, 0.76947332,\n",
       "          0.76714993, 0.59614286],\n",
       "         [0.02292089, 0.64737453, 0.06926435, 0.59888685, 0.62875221,\n",
       "          0.59623029, 0.10012512],\n",
       "         [0.55695157, 0.5790336 , 0.50178522, 0.12354727, 0.89280412,\n",
       "          0.69309955, 0.83180873],\n",
       "         [0.90397225, 0.9745886 , 0.50797176, 0.95724186, 0.71480686,\n",
       "          0.14563851, 0.04432533]],\n",
       "\n",
       "        [[0.14034673, 0.86119957, 0.86567833, 0.00649599, 0.1922686 ,\n",
       "          0.06346803, 0.91004955],\n",
       "         [0.1134024 , 0.19092897, 0.57040954, 0.24028673, 0.31251325,\n",
       "          0.29162012, 0.86991686],\n",
       "         [0.45533758, 0.01034337, 0.33039598, 0.17524773, 0.61108602,\n",
       "          0.40038235, 0.03689457],\n",
       "         [0.45924605, 0.08451052, 0.34861502, 0.21575859, 0.40182175,\n",
       "          0.77153198, 0.09308429],\n",
       "         [0.62855713, 0.76061035, 0.68297264, 0.27554356, 0.01519644,\n",
       "          0.39899194, 0.9685186 ],\n",
       "         [0.57659251, 0.96193282, 0.57593922, 0.46948099, 0.28169744,\n",
       "          0.19034289, 0.14860174]],\n",
       "\n",
       "        [[0.60837665, 0.85973144, 0.78796781, 0.73130081, 0.57567593,\n",
       "          0.25759334, 0.63090377],\n",
       "         [0.41175336, 0.18504589, 0.99307745, 0.5244833 , 0.4723951 ,\n",
       "          0.95167384, 0.73019343],\n",
       "         [0.12362247, 0.51955718, 0.9965274 , 0.38313127, 0.127135  ,\n",
       "          0.43125387, 0.67032833],\n",
       "         [0.89925974, 0.20839343, 0.96426443, 0.01900629, 0.73425866,\n",
       "          0.76465773, 0.30646325],\n",
       "         [0.72209204, 0.98304468, 0.68432336, 0.68878473, 0.70427849,\n",
       "          0.43931957, 0.46033558],\n",
       "         [0.43370067, 0.80587305, 0.0794807 , 0.39923487, 0.35016137,\n",
       "          0.37687756, 0.0529567 ]],\n",
       "\n",
       "        [[0.22725913, 0.36242296, 0.13014329, 0.81839662, 0.82027282,\n",
       "          0.61254544, 0.66260837],\n",
       "         [0.54117377, 0.45727555, 0.88383896, 0.56531195, 0.66791345,\n",
       "          0.05801865, 0.28069672],\n",
       "         [0.12001757, 0.07137049, 0.73364598, 0.84207752, 0.82673501,\n",
       "          0.254565  , 0.35091654],\n",
       "         [0.83293446, 0.07571638, 0.16086721, 0.48394128, 0.25849252,\n",
       "          0.83752524, 0.04155013],\n",
       "         [0.95901037, 0.78387277, 0.04846606, 0.12697523, 0.41654327,\n",
       "          0.19341712, 0.44687443],\n",
       "         [0.76480111, 0.39377275, 0.81676774, 0.45999126, 0.47332528,\n",
       "          0.43634181, 0.01775089]]],\n",
       "\n",
       "\n",
       "       [[[0.10187327, 0.65508276, 0.66200504, 0.77400073, 0.01083028,\n",
       "          0.36277776, 0.36382358],\n",
       "         [0.00816713, 0.48382149, 0.81602375, 0.07313059, 0.65341503,\n",
       "          0.33259844, 0.23603604],\n",
       "         [0.2237494 , 0.49621054, 0.39389488, 0.88242748, 0.23282761,\n",
       "          0.46489039, 0.00185518],\n",
       "         [0.03886298, 0.88577525, 0.36454003, 0.51796025, 0.07544747,\n",
       "          0.87513037, 0.93630623],\n",
       "         [0.55476431, 0.14555258, 0.86977192, 0.88077262, 0.11924139,\n",
       "          0.59425478, 0.38520793],\n",
       "         [0.46362899, 0.77756232, 0.71072485, 0.97752468, 0.75818912,\n",
       "          0.92679774, 0.27411138]],\n",
       "\n",
       "        [[0.28151725, 0.27805242, 0.58507131, 0.86334115, 0.34071063,\n",
       "          0.09867407, 0.65509926],\n",
       "         [0.30283567, 0.30812257, 0.53439638, 0.32294775, 0.41530258,\n",
       "          0.91241224, 0.63867107],\n",
       "         [0.89103546, 0.25163289, 0.92837537, 0.65490687, 0.50646403,\n",
       "          0.68396011, 0.29843222],\n",
       "         [0.29343658, 0.61707034, 0.40978275, 0.64138467, 0.09081425,\n",
       "          0.25843575, 0.90747221],\n",
       "         [0.88603399, 0.49224195, 0.95478425, 0.01982055, 0.15506362,\n",
       "          0.54945907, 0.67686338],\n",
       "         [0.00594216, 0.38075936, 0.87846501, 0.34968065, 0.40698742,\n",
       "          0.30525669, 0.80159686]],\n",
       "\n",
       "        [[0.62908572, 0.92903314, 0.18629322, 0.86915142, 0.24973363,\n",
       "          0.48455621, 0.01493144],\n",
       "         [0.87223933, 0.46558284, 0.04228833, 0.79262703, 0.73885565,\n",
       "          0.23216334, 0.88005216],\n",
       "         [0.33123625, 0.77210053, 0.32767034, 0.11472838, 0.18203792,\n",
       "          0.64351231, 0.9447257 ],\n",
       "         [0.38273166, 0.52152515, 0.18271609, 0.5639783 , 0.47688764,\n",
       "          0.91988241, 0.47316564],\n",
       "         [0.4127485 , 0.41745389, 0.18595061, 0.89568319, 0.2314944 ,\n",
       "          0.39955544, 0.98239771],\n",
       "         [0.62304231, 0.61398318, 0.80136913, 0.11512827, 0.12541657,\n",
       "          0.23441199, 0.96612638]],\n",
       "\n",
       "        [[0.90883038, 0.47914226, 0.0741799 , 0.18343516, 0.58570439,\n",
       "          0.02560837, 0.5144563 ],\n",
       "         [0.22760973, 0.1931307 , 0.75662213, 0.56164106, 0.12931795,\n",
       "          0.13444723, 0.78603808],\n",
       "         [0.75888754, 0.89611482, 0.7225985 , 0.0244207 , 0.32829146,\n",
       "          0.17556657, 0.70062555],\n",
       "         [0.86197962, 0.66279158, 0.30667091, 0.85834816, 0.5250244 ,\n",
       "          0.39841373, 0.91523031],\n",
       "         [0.44385456, 0.46192809, 0.00249865, 0.70126411, 0.27969861,\n",
       "          0.11012971, 0.47682729],\n",
       "         [0.86812993, 0.49943047, 0.13692467, 0.41859638, 0.63456119,\n",
       "          0.80969612, 0.86249034]],\n",
       "\n",
       "        [[0.55037908, 0.68086149, 0.53915655, 0.6014889 , 0.77217559,\n",
       "          0.11162268, 0.11322596],\n",
       "         [0.36624554, 0.40780946, 0.89752667, 0.4325575 , 0.61924253,\n",
       "          0.70600804, 0.19029055],\n",
       "         [0.25558014, 0.19947411, 0.20935851, 0.32048773, 0.11762649,\n",
       "          0.99419586, 0.37643526],\n",
       "         [0.07675035, 0.73919305, 0.82974024, 0.31458027, 0.00199929,\n",
       "          0.84788166, 0.96325186],\n",
       "         [0.90168145, 0.32275967, 0.72889623, 0.25718045, 0.32731793,\n",
       "          0.1348947 , 0.15298169],\n",
       "         [0.83778332, 0.28069137, 0.578356  , 0.44087808, 0.19270149,\n",
       "          0.27194077, 0.90463386]]],\n",
       "\n",
       "\n",
       "       [[[0.42077901, 0.9458646 , 0.10248329, 0.31756645, 0.71146627,\n",
       "          0.22252377, 0.57284415],\n",
       "         [0.21604495, 0.40813103, 0.47316075, 0.47970129, 0.61308888,\n",
       "          0.33275767, 0.72147865],\n",
       "         [0.19187929, 0.48569299, 0.03026266, 0.38841677, 0.55453716,\n",
       "          0.01564817, 0.91770438],\n",
       "         [0.97619398, 0.86255946, 0.43370424, 0.93132227, 0.51559118,\n",
       "          0.48173795, 0.44083339],\n",
       "         [0.32153253, 0.83079816, 0.99307419, 0.613645  , 0.43098366,\n",
       "          0.69918157, 0.79296706],\n",
       "         [0.0713185 , 0.14775828, 0.44289089, 0.07830554, 0.58080688,\n",
       "          0.9758224 , 0.41621917]],\n",
       "\n",
       "        [[0.24078085, 0.0559807 , 0.04119571, 0.53366483, 0.54157291,\n",
       "          0.5413358 , 0.06457316],\n",
       "         [0.90498293, 0.62136632, 0.22238385, 0.51422578, 0.48623023,\n",
       "          0.63677802, 0.21867054],\n",
       "         [0.27433246, 0.44956033, 0.28673541, 0.92824002, 0.01626056,\n",
       "          0.15801135, 0.23888423],\n",
       "         [0.69218786, 0.09066212, 0.91366319, 0.8462582 , 0.1441518 ,\n",
       "          0.30924686, 0.10900464],\n",
       "         [0.04670524, 0.3748036 , 0.66202333, 0.12694898, 0.11778508,\n",
       "          0.76581492, 0.32446347],\n",
       "         [0.69779725, 0.94016489, 0.10821583, 0.43560071, 0.91379622,\n",
       "          0.49802902, 0.93068135]],\n",
       "\n",
       "        [[0.97269512, 0.07727817, 0.6184872 , 0.29415648, 0.9030759 ,\n",
       "          0.52835619, 0.23849869],\n",
       "         [0.64944941, 0.23132645, 0.42896879, 0.66358844, 0.02838879,\n",
       "          0.38853393, 0.4939944 ],\n",
       "         [0.4611879 , 0.51045036, 0.7370471 , 0.95021351, 0.45156752,\n",
       "          0.70393608, 0.10413992],\n",
       "         [0.16538136, 0.278902  , 0.50517944, 0.03983726, 0.61555944,\n",
       "          0.33551793, 0.0537979 ],\n",
       "         [0.19397529, 0.08490111, 0.14532837, 0.27777571, 0.55791458,\n",
       "          0.796312  , 0.17406063],\n",
       "         [0.31982653, 0.47751202, 0.37839713, 0.10553937, 0.51819548,\n",
       "          0.15548379, 0.63739339]],\n",
       "\n",
       "        [[0.2587069 , 0.78377244, 0.44543067, 0.95053168, 0.943204  ,\n",
       "          0.75619714, 0.81817791],\n",
       "         [0.10523084, 0.27166814, 0.14753614, 0.63027439, 0.22837817,\n",
       "          0.53730763, 0.75280667],\n",
       "         [0.77792517, 0.3219584 , 0.34650379, 0.21658432, 0.21585119,\n",
       "          0.04068827, 0.25533614],\n",
       "         [0.96127239, 0.97185286, 0.34381376, 0.6495639 , 0.04582948,\n",
       "          0.2527693 , 0.26602786],\n",
       "         [0.31503059, 0.34692773, 0.19868693, 0.55993035, 0.69098701,\n",
       "          0.75106187, 0.97681352],\n",
       "         [0.17310964, 0.53874573, 0.55645889, 0.19101797, 0.17696167,\n",
       "          0.27888525, 0.163265  ]],\n",
       "\n",
       "        [[0.58995618, 0.76396204, 0.31103088, 0.75300396, 0.87423573,\n",
       "          0.84589325, 0.46727576],\n",
       "         [0.64104466, 0.92679735, 0.74066975, 0.69384941, 0.8374868 ,\n",
       "          0.44164272, 0.68122653],\n",
       "         [0.36363471, 0.66413833, 0.30273451, 0.34875726, 0.11356278,\n",
       "          0.43016429, 0.42819289],\n",
       "         [0.95825954, 0.34229655, 0.39920188, 0.82468127, 0.68197919,\n",
       "          0.08407445, 0.96794372],\n",
       "         [0.18109535, 0.82753039, 0.12325305, 0.88774428, 0.88373737,\n",
       "          0.31841292, 0.15002237],\n",
       "         [0.5135244 , 0.76009295, 0.85231297, 0.07588372, 0.78229713,\n",
       "          0.78311334, 0.35458916]]],\n",
       "\n",
       "\n",
       "       [[[0.70136837, 0.01433523, 0.25189157, 0.37349458, 0.62350885,\n",
       "          0.82363614, 0.40611487],\n",
       "         [0.36688481, 0.81530708, 0.22634583, 0.35975424, 0.09996246,\n",
       "          0.43375165, 0.08891794],\n",
       "         [0.4456167 , 0.91181426, 0.92960641, 0.15381997, 0.07415272,\n",
       "          0.1196311 , 0.12628482],\n",
       "         [0.46860371, 0.98495577, 0.60187719, 0.72243897, 0.82281646,\n",
       "          0.90971043, 0.72819604],\n",
       "         [0.22960873, 0.90934563, 0.93475444, 0.57866067, 0.90668243,\n",
       "          0.30237888, 0.99628049],\n",
       "         [0.0013264 , 0.7375105 , 0.26150197, 0.19454155, 0.5741631 ,\n",
       "          0.8906777 , 0.32748754]],\n",
       "\n",
       "        [[0.29282227, 0.6616913 , 0.54458192, 0.88784558, 0.16916011,\n",
       "          0.80137303, 0.54953889],\n",
       "         [0.13623506, 0.09963276, 0.36407206, 0.03501951, 0.85646447,\n",
       "          0.3015395 , 0.60297578],\n",
       "         [0.07734603, 0.04875285, 0.79108   , 0.85609226, 0.44269893,\n",
       "          0.70208931, 0.52641982],\n",
       "         [0.05974471, 0.683526  , 0.27217729, 0.55024522, 0.03910232,\n",
       "          0.85433556, 0.05893989],\n",
       "         [0.88994788, 0.1016417 , 0.74127477, 0.42022804, 0.26223077,\n",
       "          0.73239378, 0.51941458],\n",
       "         [0.84732025, 0.62198109, 0.94849259, 0.0942802 , 0.70755676,\n",
       "          0.40454353, 0.23090373]],\n",
       "\n",
       "        [[0.66788849, 0.48871187, 0.70246258, 0.76611265, 0.87151973,\n",
       "          0.69056604, 0.63811051],\n",
       "         [0.09085803, 0.22683618, 0.14982897, 0.75183903, 0.92269861,\n",
       "          0.75276932, 0.46122933],\n",
       "         [0.71491377, 0.91736124, 0.64687435, 0.63094629, 0.78070163,\n",
       "          0.60058129, 0.40511114],\n",
       "         [0.62324048, 0.03848847, 0.78463205, 0.76144497, 0.0307823 ,\n",
       "          0.66915996, 0.01732936],\n",
       "         [0.86262493, 0.78034251, 0.74791649, 0.15140234, 0.8738062 ,\n",
       "          0.86961842, 0.09591944],\n",
       "         [0.22862293, 0.20978333, 0.12455268, 0.34529194, 0.63638919,\n",
       "          0.80629812, 0.06633356]],\n",
       "\n",
       "        [[0.56970116, 0.39444387, 0.10830661, 0.28549495, 0.78944967,\n",
       "          0.87765458, 0.74445448],\n",
       "         [0.22587439, 0.89427384, 0.84415952, 0.5494877 , 0.1330922 ,\n",
       "          0.04441592, 0.28936899],\n",
       "         [0.7714581 , 0.19997081, 0.94287048, 0.4418177 , 0.55890057,\n",
       "          0.14522642, 0.3023481 ],\n",
       "         [0.51870137, 0.01723851, 0.2273158 , 0.48692266, 0.27043894,\n",
       "          0.27971636, 0.28560211],\n",
       "         [0.97968466, 0.2664967 , 0.135208  , 0.13572512, 0.36122188,\n",
       "          0.66567764, 0.73152311],\n",
       "         [0.59817296, 0.99860476, 0.0133116 , 0.86929616, 0.66261042,\n",
       "          0.96476203, 0.06974943]],\n",
       "\n",
       "        [[0.98142317, 0.72390472, 0.78601075, 0.30595433, 0.35303926,\n",
       "          0.4894548 , 0.7376785 ],\n",
       "         [0.83546211, 0.27059889, 0.67398401, 0.82376253, 0.19856507,\n",
       "          0.1112886 , 0.64813268],\n",
       "         [0.50281734, 0.5284523 , 0.82813136, 0.40229174, 0.25824012,\n",
       "          0.33988488, 0.21065076],\n",
       "         [0.82630653, 0.09680781, 0.80485206, 0.06905996, 0.6465747 ,\n",
       "          0.02973197, 0.49718019],\n",
       "         [0.4730282 , 0.88124541, 0.87873024, 0.45632939, 0.13139965,\n",
       "          0.70767065, 0.81633475],\n",
       "         [0.82149273, 0.66665948, 0.79157127, 0.60116636, 0.68538533,\n",
       "          0.79835849, 0.17777372]]]])"
      ]
     },
     "execution_count": 91,
     "metadata": {},
     "output_type": "execute_result"
    }
   ],
   "source": [
    "rand"
   ]
  },
  {
   "cell_type": "code",
   "execution_count": 92,
   "id": "b2b15fa7",
   "metadata": {},
   "outputs": [
    {
     "data": {
      "text/plain": [
       "(4, 5, 6, 7)"
      ]
     },
     "execution_count": 92,
     "metadata": {},
     "output_type": "execute_result"
    }
   ],
   "source": [
    "rand.shape"
   ]
  },
  {
   "cell_type": "code",
   "execution_count": 95,
   "id": "3d06a121",
   "metadata": {},
   "outputs": [
    {
     "data": {
      "text/plain": [
       "(7, 6, 5, 4)"
      ]
     },
     "execution_count": 95,
     "metadata": {},
     "output_type": "execute_result"
    }
   ],
   "source": [
    "rand.T.shape"
   ]
  },
  {
   "cell_type": "markdown",
   "id": "6b740f4e",
   "metadata": {},
   "source": [
    "### Dot product"
   ]
  },
  {
   "cell_type": "code",
   "execution_count": 112,
   "id": "7bdcf76d",
   "metadata": {},
   "outputs": [],
   "source": [
    "np.random.seed(0)\n",
    "mat1 = np.random.randint(10, size = (5,3))\n",
    "mat2 = np.random.randint(10, size = (5,3))"
   ]
  },
  {
   "cell_type": "code",
   "execution_count": 113,
   "id": "aad40b59",
   "metadata": {},
   "outputs": [
    {
     "data": {
      "text/plain": [
       "(array([[5, 0, 3],\n",
       "        [3, 7, 9],\n",
       "        [3, 5, 2],\n",
       "        [4, 7, 6],\n",
       "        [8, 8, 1]]),\n",
       " array([[6, 7, 7],\n",
       "        [8, 1, 5],\n",
       "        [9, 8, 9],\n",
       "        [4, 3, 0],\n",
       "        [3, 5, 0]]))"
      ]
     },
     "execution_count": 113,
     "metadata": {},
     "output_type": "execute_result"
    }
   ],
   "source": [
    "mat1, mat2"
   ]
  },
  {
   "cell_type": "code",
   "execution_count": 114,
   "id": "6a9b5609",
   "metadata": {},
   "outputs": [
    {
     "data": {
      "text/plain": [
       "((5, 3), (5, 3))"
      ]
     },
     "execution_count": 114,
     "metadata": {},
     "output_type": "execute_result"
    }
   ],
   "source": [
    "mat1.shape, mat2.shape"
   ]
  },
  {
   "cell_type": "code",
   "execution_count": 115,
   "id": "65ddab39",
   "metadata": {},
   "outputs": [
    {
     "data": {
      "text/plain": [
       "array([[30,  0, 21],\n",
       "       [24,  7, 45],\n",
       "       [27, 40, 18],\n",
       "       [16, 21,  0],\n",
       "       [24, 40,  0]])"
      ]
     },
     "execution_count": 115,
     "metadata": {},
     "output_type": "execute_result"
    }
   ],
   "source": [
    "# Element wise (hadamard product)\n",
    "mat1 * mat2"
   ]
  },
  {
   "cell_type": "code",
   "execution_count": 116,
   "id": "bde6eb38",
   "metadata": {},
   "outputs": [
    {
     "data": {
      "text/plain": [
       "array([[30,  0, 21],\n",
       "       [24,  7, 45],\n",
       "       [27, 40, 18],\n",
       "       [16, 21,  0],\n",
       "       [24, 40,  0]])"
      ]
     },
     "execution_count": 116,
     "metadata": {},
     "output_type": "execute_result"
    }
   ],
   "source": [
    "np.multiply(mat1, mat2)"
   ]
  },
  {
   "cell_type": "code",
   "execution_count": 118,
   "id": "a9339c90",
   "metadata": {},
   "outputs": [],
   "source": [
    "# dot with mat1 5x3 , the 3 row must match the 3 column of next array \n",
    "mat3 = np.dot(mat1, mat2.T)"
   ]
  },
  {
   "cell_type": "code",
   "execution_count": 123,
   "id": "fea68b13",
   "metadata": {},
   "outputs": [
    {
     "data": {
      "text/plain": [
       "(array([[ 51,  55,  72,  20,  15],\n",
       "        [130,  76, 164,  33,  44],\n",
       "        [ 67,  39,  85,  27,  34],\n",
       "        [115,  69, 146,  37,  47],\n",
       "        [111,  77, 145,  56,  64]]),\n",
       " (5, 5))"
      ]
     },
     "execution_count": 123,
     "metadata": {},
     "output_type": "execute_result"
    }
   ],
   "source": [
    "mat3, mat3.shape"
   ]
  },
  {
   "cell_type": "markdown",
   "id": "677c0efe",
   "metadata": {},
   "source": [
    "### Dot product example"
   ]
  },
  {
   "cell_type": "code",
   "execution_count": 134,
   "id": "56740a4f",
   "metadata": {},
   "outputs": [
    {
     "data": {
      "text/plain": [
       "array([[12, 15,  0],\n",
       "       [ 3,  3,  7],\n",
       "       [ 9, 19, 18],\n",
       "       [ 4,  6, 12],\n",
       "       [ 1,  6,  7]])"
      ]
     },
     "execution_count": 134,
     "metadata": {},
     "output_type": "execute_result"
    }
   ],
   "source": [
    "np.random.seed(0)\n",
    "sales_amounts = np.random.randint(20, size = (5,3))\n",
    "sales_amounts"
   ]
  },
  {
   "cell_type": "code",
   "execution_count": 135,
   "id": "82fb9421",
   "metadata": {},
   "outputs": [],
   "source": [
    "import pandas as pd\n",
    "weekly_sales = pd.DataFrame(sales_amounts, \n",
    "                            index=[\"Mon\", \"Tue\", \"Wed\", \"Thu\", \"Fri\"],\n",
    "                            columns = [\"Almond butter\", \"Peanut butter\", \"Chashew butter\"]\n",
    "                           )"
   ]
  },
  {
   "cell_type": "code",
   "execution_count": 136,
   "id": "3b5cadb8",
   "metadata": {},
   "outputs": [
    {
     "data": {
      "text/html": [
       "<div>\n",
       "<style scoped>\n",
       "    .dataframe tbody tr th:only-of-type {\n",
       "        vertical-align: middle;\n",
       "    }\n",
       "\n",
       "    .dataframe tbody tr th {\n",
       "        vertical-align: top;\n",
       "    }\n",
       "\n",
       "    .dataframe thead th {\n",
       "        text-align: right;\n",
       "    }\n",
       "</style>\n",
       "<table border=\"1\" class=\"dataframe\">\n",
       "  <thead>\n",
       "    <tr style=\"text-align: right;\">\n",
       "      <th></th>\n",
       "      <th>Almond butter</th>\n",
       "      <th>Peanut butter</th>\n",
       "      <th>Chashew butter</th>\n",
       "    </tr>\n",
       "  </thead>\n",
       "  <tbody>\n",
       "    <tr>\n",
       "      <th>Mon</th>\n",
       "      <td>12</td>\n",
       "      <td>15</td>\n",
       "      <td>0</td>\n",
       "    </tr>\n",
       "    <tr>\n",
       "      <th>Tue</th>\n",
       "      <td>3</td>\n",
       "      <td>3</td>\n",
       "      <td>7</td>\n",
       "    </tr>\n",
       "    <tr>\n",
       "      <th>Wed</th>\n",
       "      <td>9</td>\n",
       "      <td>19</td>\n",
       "      <td>18</td>\n",
       "    </tr>\n",
       "    <tr>\n",
       "      <th>Thu</th>\n",
       "      <td>4</td>\n",
       "      <td>6</td>\n",
       "      <td>12</td>\n",
       "    </tr>\n",
       "    <tr>\n",
       "      <th>Fri</th>\n",
       "      <td>1</td>\n",
       "      <td>6</td>\n",
       "      <td>7</td>\n",
       "    </tr>\n",
       "  </tbody>\n",
       "</table>\n",
       "</div>"
      ],
      "text/plain": [
       "     Almond butter  Peanut butter  Chashew butter\n",
       "Mon             12             15               0\n",
       "Tue              3              3               7\n",
       "Wed              9             19              18\n",
       "Thu              4              6              12\n",
       "Fri              1              6               7"
      ]
     },
     "execution_count": 136,
     "metadata": {},
     "output_type": "execute_result"
    }
   ],
   "source": [
    "weekly_sales"
   ]
  },
  {
   "cell_type": "code",
   "execution_count": 137,
   "id": "f581af2e",
   "metadata": {},
   "outputs": [],
   "source": [
    "# prices array\n",
    "prices = np.array([10,8,12])"
   ]
  },
  {
   "cell_type": "code",
   "execution_count": 144,
   "id": "b2904934",
   "metadata": {},
   "outputs": [],
   "source": [
    "# create butter prices dataframe\n",
    "butter_prices = pd.DataFrame(prices.reshape(1,3), index=[\"Price\"],columns = [\"Almond butter\", \"Peanut butter\", \"Chashew butter\"])"
   ]
  },
  {
   "cell_type": "code",
   "execution_count": 145,
   "id": "8152ef06",
   "metadata": {},
   "outputs": [
    {
     "data": {
      "text/html": [
       "<div>\n",
       "<style scoped>\n",
       "    .dataframe tbody tr th:only-of-type {\n",
       "        vertical-align: middle;\n",
       "    }\n",
       "\n",
       "    .dataframe tbody tr th {\n",
       "        vertical-align: top;\n",
       "    }\n",
       "\n",
       "    .dataframe thead th {\n",
       "        text-align: right;\n",
       "    }\n",
       "</style>\n",
       "<table border=\"1\" class=\"dataframe\">\n",
       "  <thead>\n",
       "    <tr style=\"text-align: right;\">\n",
       "      <th></th>\n",
       "      <th>Almond butter</th>\n",
       "      <th>Peanut butter</th>\n",
       "      <th>Chashew butter</th>\n",
       "    </tr>\n",
       "  </thead>\n",
       "  <tbody>\n",
       "    <tr>\n",
       "      <th>Price</th>\n",
       "      <td>10</td>\n",
       "      <td>8</td>\n",
       "      <td>12</td>\n",
       "    </tr>\n",
       "  </tbody>\n",
       "</table>\n",
       "</div>"
      ],
      "text/plain": [
       "       Almond butter  Peanut butter  Chashew butter\n",
       "Price             10              8              12"
      ]
     },
     "execution_count": 145,
     "metadata": {},
     "output_type": "execute_result"
    }
   ],
   "source": [
    "butter_prices"
   ]
  },
  {
   "cell_type": "code",
   "execution_count": 148,
   "id": "a2d415a9",
   "metadata": {},
   "outputs": [
    {
     "data": {
      "text/plain": [
       "((5, 3), (1, 3))"
      ]
     },
     "execution_count": 148,
     "metadata": {},
     "output_type": "execute_result"
    }
   ],
   "source": [
    "sales_amounts.shape, butter_prices.shape"
   ]
  },
  {
   "cell_type": "code",
   "execution_count": 151,
   "id": "be2c657b",
   "metadata": {},
   "outputs": [
    {
     "data": {
      "text/plain": [
       "array([240, 138, 458, 232, 142])"
      ]
     },
     "execution_count": 151,
     "metadata": {},
     "output_type": "execute_result"
    }
   ],
   "source": [
    "total_sales = prices.dot(sales_amounts.T)\n",
    "total_sales"
   ]
  },
  {
   "cell_type": "code",
   "execution_count": 152,
   "id": "3fee6008",
   "metadata": {},
   "outputs": [],
   "source": [
    "weekly_sales[\"Total ($)\"] = total_sales"
   ]
  },
  {
   "cell_type": "code",
   "execution_count": 153,
   "id": "fe1a5f1d",
   "metadata": {},
   "outputs": [
    {
     "data": {
      "text/html": [
       "<div>\n",
       "<style scoped>\n",
       "    .dataframe tbody tr th:only-of-type {\n",
       "        vertical-align: middle;\n",
       "    }\n",
       "\n",
       "    .dataframe tbody tr th {\n",
       "        vertical-align: top;\n",
       "    }\n",
       "\n",
       "    .dataframe thead th {\n",
       "        text-align: right;\n",
       "    }\n",
       "</style>\n",
       "<table border=\"1\" class=\"dataframe\">\n",
       "  <thead>\n",
       "    <tr style=\"text-align: right;\">\n",
       "      <th></th>\n",
       "      <th>Almond butter</th>\n",
       "      <th>Peanut butter</th>\n",
       "      <th>Chashew butter</th>\n",
       "      <th>Total ($)</th>\n",
       "    </tr>\n",
       "  </thead>\n",
       "  <tbody>\n",
       "    <tr>\n",
       "      <th>Mon</th>\n",
       "      <td>12</td>\n",
       "      <td>15</td>\n",
       "      <td>0</td>\n",
       "      <td>240</td>\n",
       "    </tr>\n",
       "    <tr>\n",
       "      <th>Tue</th>\n",
       "      <td>3</td>\n",
       "      <td>3</td>\n",
       "      <td>7</td>\n",
       "      <td>138</td>\n",
       "    </tr>\n",
       "    <tr>\n",
       "      <th>Wed</th>\n",
       "      <td>9</td>\n",
       "      <td>19</td>\n",
       "      <td>18</td>\n",
       "      <td>458</td>\n",
       "    </tr>\n",
       "    <tr>\n",
       "      <th>Thu</th>\n",
       "      <td>4</td>\n",
       "      <td>6</td>\n",
       "      <td>12</td>\n",
       "      <td>232</td>\n",
       "    </tr>\n",
       "    <tr>\n",
       "      <th>Fri</th>\n",
       "      <td>1</td>\n",
       "      <td>6</td>\n",
       "      <td>7</td>\n",
       "      <td>142</td>\n",
       "    </tr>\n",
       "  </tbody>\n",
       "</table>\n",
       "</div>"
      ],
      "text/plain": [
       "     Almond butter  Peanut butter  Chashew butter  Total ($)\n",
       "Mon             12             15               0        240\n",
       "Tue              3              3               7        138\n",
       "Wed              9             19              18        458\n",
       "Thu              4              6              12        232\n",
       "Fri              1              6               7        142"
      ]
     },
     "execution_count": 153,
     "metadata": {},
     "output_type": "execute_result"
    }
   ],
   "source": [
    "weekly_sales"
   ]
  },
  {
   "cell_type": "code",
   "execution_count": null,
   "id": "cd203273",
   "metadata": {},
   "outputs": [],
   "source": []
  },
  {
   "cell_type": "markdown",
   "id": "53953422",
   "metadata": {},
   "source": [
    "## Comparision Operators"
   ]
  },
  {
   "cell_type": "code",
   "execution_count": 154,
   "id": "74880c7a",
   "metadata": {},
   "outputs": [
    {
     "data": {
      "text/plain": [
       "(array([1, 2, 3]),\n",
       " array([[ 2,  3,  4],\n",
       "        [ 8,  9, 10]]))"
      ]
     },
     "execution_count": 154,
     "metadata": {},
     "output_type": "execute_result"
    }
   ],
   "source": [
    "a1, a2"
   ]
  },
  {
   "cell_type": "code",
   "execution_count": 155,
   "id": "a19bf884",
   "metadata": {},
   "outputs": [
    {
     "data": {
      "text/plain": [
       "array([[False, False, False],\n",
       "       [False, False, False]])"
      ]
     },
     "execution_count": 155,
     "metadata": {},
     "output_type": "execute_result"
    }
   ],
   "source": [
    "a1> a2"
   ]
  },
  {
   "cell_type": "code",
   "execution_count": 158,
   "id": "cd7118fa",
   "metadata": {},
   "outputs": [
    {
     "data": {
      "text/plain": [
       "array([[False, False, False],\n",
       "       [False, False, False]])"
      ]
     },
     "execution_count": 158,
     "metadata": {},
     "output_type": "execute_result"
    }
   ],
   "source": [
    "bool_array = a1>=a2\n",
    "bool_array"
   ]
  },
  {
   "cell_type": "code",
   "execution_count": 159,
   "id": "e5af52a7",
   "metadata": {},
   "outputs": [
    {
     "data": {
      "text/plain": [
       "dtype('bool')"
      ]
     },
     "execution_count": 159,
     "metadata": {},
     "output_type": "execute_result"
    }
   ],
   "source": [
    "bool_array.dtype"
   ]
  },
  {
   "cell_type": "code",
   "execution_count": 160,
   "id": "b99b5039",
   "metadata": {},
   "outputs": [
    {
     "data": {
      "text/plain": [
       "array([False,  True,  True])"
      ]
     },
     "execution_count": 160,
     "metadata": {},
     "output_type": "execute_result"
    }
   ],
   "source": [
    "a1>1"
   ]
  },
  {
   "cell_type": "code",
   "execution_count": 165,
   "id": "36bae579",
   "metadata": {},
   "outputs": [
    {
     "data": {
      "text/plain": [
       "array([[ True,  True,  True],\n",
       "       [ True,  True,  True]])"
      ]
     },
     "execution_count": 165,
     "metadata": {},
     "output_type": "execute_result"
    }
   ],
   "source": [
    "a1<=a2"
   ]
  },
  {
   "cell_type": "code",
   "execution_count": 166,
   "id": "ffc78212",
   "metadata": {},
   "outputs": [
    {
     "data": {
      "text/plain": [
       "array([False,  True,  True])"
      ]
     },
     "execution_count": 166,
     "metadata": {},
     "output_type": "execute_result"
    }
   ],
   "source": [
    "a1!=1"
   ]
  },
  {
   "cell_type": "code",
   "execution_count": 173,
   "id": "c380922a",
   "metadata": {},
   "outputs": [],
   "source": [
    "random_array = np.random.randint(10,20,(3,4))"
   ]
  },
  {
   "cell_type": "code",
   "execution_count": 174,
   "id": "6d82e70c",
   "metadata": {},
   "outputs": [
    {
     "data": {
      "text/plain": [
       "array([[10, 12, 13, 18],\n",
       "       [11, 13, 13, 13],\n",
       "       [17, 10, 11, 19]])"
      ]
     },
     "execution_count": 174,
     "metadata": {},
     "output_type": "execute_result"
    }
   ],
   "source": [
    "random_array"
   ]
  },
  {
   "cell_type": "code",
   "execution_count": 176,
   "id": "46bba766",
   "metadata": {},
   "outputs": [
    {
     "data": {
      "text/plain": [
       "array([[10, 12, 13, 18],\n",
       "       [11, 13, 13, 13],\n",
       "       [10, 11, 17, 19]])"
      ]
     },
     "execution_count": 176,
     "metadata": {},
     "output_type": "execute_result"
    }
   ],
   "source": [
    "np.sort(random_array)"
   ]
  },
  {
   "cell_type": "code",
   "execution_count": 177,
   "id": "3c8794af",
   "metadata": {},
   "outputs": [
    {
     "data": {
      "text/plain": [
       "array([[0, 1, 2, 3],\n",
       "       [0, 1, 2, 3],\n",
       "       [1, 2, 0, 3]], dtype=int64)"
      ]
     },
     "execution_count": 177,
     "metadata": {},
     "output_type": "execute_result"
    }
   ],
   "source": [
    "np.argsort(random_array)"
   ]
  },
  {
   "cell_type": "code",
   "execution_count": 184,
   "id": "7128f7e0",
   "metadata": {},
   "outputs": [
    {
     "data": {
      "text/plain": [
       "array([0, 0, 1], dtype=int64)"
      ]
     },
     "execution_count": 184,
     "metadata": {},
     "output_type": "execute_result"
    }
   ],
   "source": [
    "np.argmin(random_array, axis = 1)"
   ]
  },
  {
   "cell_type": "code",
   "execution_count": 182,
   "id": "6c619621",
   "metadata": {},
   "outputs": [
    {
     "data": {
      "text/plain": [
       "array([2, 1, 0, 2], dtype=int64)"
      ]
     },
     "execution_count": 182,
     "metadata": {},
     "output_type": "execute_result"
    }
   ],
   "source": [
    "np.argmax(random_array, axis = 0)"
   ]
  },
  {
   "cell_type": "code",
   "execution_count": 183,
   "id": "e1747273",
   "metadata": {},
   "outputs": [
    {
     "data": {
      "text/plain": [
       "array([3, 1, 3], dtype=int64)"
      ]
     },
     "execution_count": 183,
     "metadata": {},
     "output_type": "execute_result"
    }
   ],
   "source": [
    "np.argmax(random_array, axis = 1)"
   ]
  }
 ],
 "metadata": {
  "kernelspec": {
   "display_name": "Python 3",
   "language": "python",
   "name": "python3"
  },
  "language_info": {
   "codemirror_mode": {
    "name": "ipython",
    "version": 3
   },
   "file_extension": ".py",
   "mimetype": "text/x-python",
   "name": "python",
   "nbconvert_exporter": "python",
   "pygments_lexer": "ipython3",
   "version": "3.8.8"
  }
 },
 "nbformat": 4,
 "nbformat_minor": 5
}
