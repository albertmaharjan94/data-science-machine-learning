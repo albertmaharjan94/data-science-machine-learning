{
 "cells": [
  {
   "cell_type": "markdown",
   "id": "e9a07e62",
   "metadata": {},
   "source": [
    "# Manipulating and comparing arrays"
   ]
  },
  {
   "cell_type": "markdown",
   "id": "60d7be5c",
   "metadata": {},
   "source": [
    "### Arithmetic"
   ]
  },
  {
   "cell_type": "code",
   "execution_count": 1,
   "id": "e42cbefa",
   "metadata": {},
   "outputs": [],
   "source": [
    "import numpy as np"
   ]
  },
  {
   "cell_type": "code",
   "execution_count": 2,
   "id": "df46c365",
   "metadata": {},
   "outputs": [],
   "source": [
    "ones = np.ones(3)"
   ]
  },
  {
   "cell_type": "code",
   "execution_count": 3,
   "id": "efa95b7d",
   "metadata": {},
   "outputs": [
    {
     "data": {
      "text/plain": [
       "array([1., 1., 1.])"
      ]
     },
     "execution_count": 3,
     "metadata": {},
     "output_type": "execute_result"
    }
   ],
   "source": [
    "ones"
   ]
  },
  {
   "cell_type": "code",
   "execution_count": 4,
   "id": "0a1a1d3c",
   "metadata": {},
   "outputs": [],
   "source": [
    "a1 = np.array([1,2,3])"
   ]
  },
  {
   "cell_type": "code",
   "execution_count": 5,
   "id": "4cdfc9e6",
   "metadata": {},
   "outputs": [
    {
     "data": {
      "text/plain": [
       "array([1, 2, 3])"
      ]
     },
     "execution_count": 5,
     "metadata": {},
     "output_type": "execute_result"
    }
   ],
   "source": [
    "a1"
   ]
  },
  {
   "cell_type": "code",
   "execution_count": 6,
   "id": "476dbfae",
   "metadata": {},
   "outputs": [
    {
     "data": {
      "text/plain": [
       "array([2., 3., 4.])"
      ]
     },
     "execution_count": 6,
     "metadata": {},
     "output_type": "execute_result"
    }
   ],
   "source": [
    "a1+ones"
   ]
  },
  {
   "cell_type": "code",
   "execution_count": 7,
   "id": "c4880f2d",
   "metadata": {},
   "outputs": [
    {
     "data": {
      "text/plain": [
       "array([0., 1., 2.])"
      ]
     },
     "execution_count": 7,
     "metadata": {},
     "output_type": "execute_result"
    }
   ],
   "source": [
    "a1-ones"
   ]
  },
  {
   "cell_type": "code",
   "execution_count": 8,
   "id": "d4e77497",
   "metadata": {},
   "outputs": [
    {
     "data": {
      "text/plain": [
       "array([3, 4, 5])"
      ]
     },
     "execution_count": 8,
     "metadata": {},
     "output_type": "execute_result"
    }
   ],
   "source": [
    "a1+2"
   ]
  },
  {
   "cell_type": "code",
   "execution_count": 9,
   "id": "6f62ac16",
   "metadata": {},
   "outputs": [
    {
     "data": {
      "text/plain": [
       "array([1., 2., 3.])"
      ]
     },
     "execution_count": 9,
     "metadata": {},
     "output_type": "execute_result"
    }
   ],
   "source": [
    "a1*ones"
   ]
  },
  {
   "cell_type": "code",
   "execution_count": 10,
   "id": "9df8fb36",
   "metadata": {},
   "outputs": [],
   "source": [
    "a2 = np.array([[2,3,4],[8,9,10]])"
   ]
  },
  {
   "cell_type": "code",
   "execution_count": 11,
   "id": "9a454b33",
   "metadata": {},
   "outputs": [
    {
     "data": {
      "text/plain": [
       "array([[ 2,  3,  4],\n",
       "       [ 8,  9, 10]])"
      ]
     },
     "execution_count": 11,
     "metadata": {},
     "output_type": "execute_result"
    }
   ],
   "source": [
    "a2"
   ]
  },
  {
   "cell_type": "code",
   "execution_count": 12,
   "id": "13791a66",
   "metadata": {},
   "outputs": [
    {
     "data": {
      "text/plain": [
       "array([[ 3,  5,  7],\n",
       "       [ 9, 11, 13]])"
      ]
     },
     "execution_count": 12,
     "metadata": {},
     "output_type": "execute_result"
    }
   ],
   "source": [
    "a1+a2"
   ]
  },
  {
   "cell_type": "code",
   "execution_count": 13,
   "id": "57dc0f61",
   "metadata": {},
   "outputs": [],
   "source": [
    "a3 = np.array([[[1,2,3],\n",
    "                [4,5,6],\n",
    "                [7,8,9]],\n",
    "               [[10,11,12],\n",
    "                [13,14,15],\n",
    "                [16,17,18]]])"
   ]
  },
  {
   "cell_type": "code",
   "execution_count": 14,
   "id": "c8455032",
   "metadata": {},
   "outputs": [],
   "source": [
    "# a2+a3"
   ]
  },
  {
   "cell_type": "code",
   "execution_count": 15,
   "id": "1ecbc350",
   "metadata": {},
   "outputs": [
    {
     "data": {
      "text/plain": [
       "array([[2.        , 1.5       , 1.33333333],\n",
       "       [8.        , 4.5       , 3.33333333]])"
      ]
     },
     "execution_count": 15,
     "metadata": {},
     "output_type": "execute_result"
    }
   ],
   "source": [
    "a2/a1"
   ]
  },
  {
   "cell_type": "code",
   "execution_count": 16,
   "id": "e52d9fc2",
   "metadata": {},
   "outputs": [
    {
     "data": {
      "text/plain": [
       "array([[2, 1, 1],\n",
       "       [8, 4, 3]], dtype=int32)"
      ]
     },
     "execution_count": 16,
     "metadata": {},
     "output_type": "execute_result"
    }
   ],
   "source": [
    "# // removes decimals\n",
    "a2//a1"
   ]
  },
  {
   "cell_type": "code",
   "execution_count": 17,
   "id": "0f420500",
   "metadata": {},
   "outputs": [
    {
     "data": {
      "text/plain": [
       "array([[  4,   9,  16],\n",
       "       [ 64,  81, 100]], dtype=int32)"
      ]
     },
     "execution_count": 17,
     "metadata": {},
     "output_type": "execute_result"
    }
   ],
   "source": [
    "a2**2"
   ]
  },
  {
   "cell_type": "code",
   "execution_count": 18,
   "id": "3e191437",
   "metadata": {},
   "outputs": [
    {
     "data": {
      "text/plain": [
       "array([[  4,   9,  16],\n",
       "       [ 64,  81, 100]], dtype=int32)"
      ]
     },
     "execution_count": 18,
     "metadata": {},
     "output_type": "execute_result"
    }
   ],
   "source": [
    "np.square(a2)"
   ]
  },
  {
   "cell_type": "code",
   "execution_count": 19,
   "id": "cec3ea58",
   "metadata": {},
   "outputs": [
    {
     "data": {
      "text/plain": [
       "array([[ 3.,  4.,  5.],\n",
       "       [ 9., 10., 11.]])"
      ]
     },
     "execution_count": 19,
     "metadata": {},
     "output_type": "execute_result"
    }
   ],
   "source": [
    "np.add(a2, ones)"
   ]
  },
  {
   "cell_type": "code",
   "execution_count": 20,
   "id": "d2e87010",
   "metadata": {},
   "outputs": [
    {
     "data": {
      "text/plain": [
       "array([[0, 1, 0],\n",
       "       [0, 1, 0]], dtype=int32)"
      ]
     },
     "execution_count": 20,
     "metadata": {},
     "output_type": "execute_result"
    }
   ],
   "source": [
    "np.mod(a2,2)"
   ]
  },
  {
   "cell_type": "code",
   "execution_count": 21,
   "id": "41970fe4",
   "metadata": {},
   "outputs": [
    {
     "data": {
      "text/plain": [
       "array([1, 0, 1], dtype=int32)"
      ]
     },
     "execution_count": 21,
     "metadata": {},
     "output_type": "execute_result"
    }
   ],
   "source": [
    "a1%2"
   ]
  },
  {
   "cell_type": "code",
   "execution_count": 22,
   "id": "317de57b",
   "metadata": {},
   "outputs": [
    {
     "data": {
      "text/plain": [
       "array([ 2.71828183,  7.3890561 , 20.08553692])"
      ]
     },
     "execution_count": 22,
     "metadata": {},
     "output_type": "execute_result"
    }
   ],
   "source": [
    "np.exp(a1)"
   ]
  },
  {
   "cell_type": "code",
   "execution_count": 23,
   "id": "84675aeb",
   "metadata": {},
   "outputs": [
    {
     "data": {
      "text/plain": [
       "array([0.        , 0.69314718, 1.09861229])"
      ]
     },
     "execution_count": 23,
     "metadata": {},
     "output_type": "execute_result"
    }
   ],
   "source": [
    "np.log(a1)"
   ]
  },
  {
   "cell_type": "markdown",
   "id": "70e64403",
   "metadata": {},
   "source": [
    "### Aggregation\n",
    "\n",
    "Performing the same operation on a number of things"
   ]
  },
  {
   "cell_type": "code",
   "execution_count": 24,
   "id": "6c1c856b",
   "metadata": {},
   "outputs": [
    {
     "data": {
      "text/plain": [
       "list"
      ]
     },
     "execution_count": 24,
     "metadata": {},
     "output_type": "execute_result"
    }
   ],
   "source": [
    "_list = [1, 2, 3]\n",
    "type(_list)"
   ]
  },
  {
   "cell_type": "code",
   "execution_count": 25,
   "id": "b5ade126",
   "metadata": {},
   "outputs": [
    {
     "data": {
      "text/plain": [
       "6"
      ]
     },
     "execution_count": 25,
     "metadata": {},
     "output_type": "execute_result"
    }
   ],
   "source": [
    "sum(_list)"
   ]
  },
  {
   "cell_type": "code",
   "execution_count": 26,
   "id": "7333e2bf",
   "metadata": {},
   "outputs": [
    {
     "data": {
      "text/plain": [
       "array([1, 2, 3])"
      ]
     },
     "execution_count": 26,
     "metadata": {},
     "output_type": "execute_result"
    }
   ],
   "source": [
    "a1"
   ]
  },
  {
   "cell_type": "code",
   "execution_count": 27,
   "id": "62ef0004",
   "metadata": {},
   "outputs": [
    {
     "data": {
      "text/plain": [
       "(6, 6)"
      ]
     },
     "execution_count": 27,
     "metadata": {},
     "output_type": "execute_result"
    }
   ],
   "source": [
    "np.sum(a1), sum(a1)"
   ]
  },
  {
   "cell_type": "code",
   "execution_count": 28,
   "id": "eeecb09a",
   "metadata": {},
   "outputs": [],
   "source": [
    "massive_array = np.random.random(1000000)"
   ]
  },
  {
   "cell_type": "code",
   "execution_count": 29,
   "id": "5292d241",
   "metadata": {},
   "outputs": [
    {
     "data": {
      "text/plain": [
       "array([0.59731604, 0.63893519, 0.69991109, ..., 0.93833167, 0.76726693,\n",
       "       0.72150006])"
      ]
     },
     "execution_count": 29,
     "metadata": {},
     "output_type": "execute_result"
    }
   ],
   "source": [
    "massive_array"
   ]
  },
  {
   "cell_type": "code",
   "execution_count": 30,
   "id": "f3f0fde3",
   "metadata": {},
   "outputs": [
    {
     "name": "stdout",
     "output_type": "stream",
     "text": [
      "94.9 ms ± 40.2 ms per loop (mean ± std. dev. of 7 runs, 10 loops each)\n"
     ]
    }
   ],
   "source": [
    "%timeit sum(massive_array)"
   ]
  },
  {
   "cell_type": "code",
   "execution_count": 31,
   "id": "2f005661",
   "metadata": {},
   "outputs": [
    {
     "name": "stdout",
     "output_type": "stream",
     "text": [
      "2.33 ms ± 447 µs per loop (mean ± std. dev. of 7 runs, 100 loops each)\n"
     ]
    }
   ],
   "source": [
    "%timeit np.sum(massive_array)"
   ]
  },
  {
   "cell_type": "code",
   "execution_count": 32,
   "id": "c4efac0d",
   "metadata": {},
   "outputs": [
    {
     "data": {
      "text/plain": [
       "(array([[ 2,  3,  4],\n",
       "        [ 8,  9, 10]]),\n",
       " 6.0)"
      ]
     },
     "execution_count": 32,
     "metadata": {},
     "output_type": "execute_result"
    }
   ],
   "source": [
    "a2, np.mean(a2)"
   ]
  },
  {
   "cell_type": "code",
   "execution_count": 33,
   "id": "d0c16fc6",
   "metadata": {},
   "outputs": [
    {
     "data": {
      "text/plain": [
       "(2, 10)"
      ]
     },
     "execution_count": 33,
     "metadata": {},
     "output_type": "execute_result"
    }
   ],
   "source": [
    "np.min(a2), np.max(a2)"
   ]
  },
  {
   "cell_type": "code",
   "execution_count": 34,
   "id": "24b03e76",
   "metadata": {},
   "outputs": [
    {
     "data": {
      "text/plain": [
       "3.1091263510296048"
      ]
     },
     "execution_count": 34,
     "metadata": {},
     "output_type": "execute_result"
    }
   ],
   "source": [
    "np.std(a2)"
   ]
  },
  {
   "cell_type": "code",
   "execution_count": 35,
   "id": "86c03b13",
   "metadata": {},
   "outputs": [
    {
     "data": {
      "text/plain": [
       "9.666666666666666"
      ]
     },
     "execution_count": 35,
     "metadata": {},
     "output_type": "execute_result"
    }
   ],
   "source": [
    "# variance = measure of the average degree to which each number is different from mean\n",
    "# higher variance = wider range of number\n",
    "# lower variance = lower range of number\n",
    "np.var(a2)"
   ]
  },
  {
   "cell_type": "code",
   "execution_count": 36,
   "id": "68264da0",
   "metadata": {},
   "outputs": [
    {
     "data": {
      "text/plain": [
       "3.1091263510296048"
      ]
     },
     "execution_count": 36,
     "metadata": {},
     "output_type": "execute_result"
    }
   ],
   "source": [
    "# standard deviance = squreroot of variance\n",
    "np.sqrt(np.var(a2))"
   ]
  },
  {
   "cell_type": "markdown",
   "id": "5022c330",
   "metadata": {},
   "source": [
    "### Standard deviation and variance"
   ]
  },
  {
   "cell_type": "code",
   "execution_count": 37,
   "id": "b41d0288",
   "metadata": {},
   "outputs": [],
   "source": [
    "high_var_array = np.array([1,100,200,300,4000,5000])\n",
    "low_var_array = np.array([2,4,6,8,10])\n"
   ]
  },
  {
   "cell_type": "code",
   "execution_count": 38,
   "id": "7d2e9242",
   "metadata": {},
   "outputs": [
    {
     "data": {
      "text/plain": [
       "(4296133.472222221, 8.0)"
      ]
     },
     "execution_count": 38,
     "metadata": {},
     "output_type": "execute_result"
    }
   ],
   "source": [
    "np.var(high_var_array), np.var(low_var_array)"
   ]
  },
  {
   "cell_type": "code",
   "execution_count": 39,
   "id": "cb5735f5",
   "metadata": {},
   "outputs": [
    {
     "data": {
      "text/plain": [
       "(2072.711623024829, 2.8284271247461903)"
      ]
     },
     "execution_count": 39,
     "metadata": {},
     "output_type": "execute_result"
    }
   ],
   "source": [
    "np.std(high_var_array), np.std(low_var_array)"
   ]
  },
  {
   "cell_type": "code",
   "execution_count": 40,
   "id": "e412d591",
   "metadata": {},
   "outputs": [
    {
     "data": {
      "text/plain": [
       "(1600.1666666666667, 6.0)"
      ]
     },
     "execution_count": 40,
     "metadata": {},
     "output_type": "execute_result"
    }
   ],
   "source": [
    "np.mean(high_var_array), np.mean(low_var_array)"
   ]
  },
  {
   "cell_type": "code",
   "execution_count": 41,
   "id": "2bb6ee0b",
   "metadata": {},
   "outputs": [
    {
     "data": {
      "image/png": "[encoded data removed]",
      "text/plain": [
       "<Figure size 432x288 with 1 Axes>"
      ]
     },
     "metadata": {
      "needs_background": "light"
     },
     "output_type": "display_data"
    }
   ],
   "source": [
    "%matplotlib inline\n",
    "import matplotlib.pyplot as plt\n",
    "plt.hist(high_var_array)\n",
    "plt.show()"
   ]
  },
  {
   "cell_type": "code",
   "execution_count": 42,
   "id": "1bac974a",
   "metadata": {},
   "outputs": [
    {
     "data": {
      "image/png": "[encoded data removed]",
      "text/plain": [
       "<Figure size 432x288 with 1 Axes>"
      ]
     },
     "metadata": {
      "needs_background": "light"
     },
     "output_type": "display_data"
    }
   ],
   "source": [
    "plt.hist(low_var_array)\n",
    "plt.show()"
   ]
  },
  {
   "cell_type": "code",
   "execution_count": 43,
   "id": "a8c451e5",
   "metadata": {},
   "outputs": [
    {
     "data": {
      "text/plain": [
       "2.0"
      ]
     },
     "execution_count": 43,
     "metadata": {},
     "output_type": "execute_result"
    }
   ],
   "source": [
    "np.var(np.array([1,2,3,4,5]))"
   ]
  },
  {
   "cell_type": "markdown",
   "id": "db70c434",
   "metadata": {},
   "source": [
    "### Reshaping and Transposing"
   ]
  },
  {
   "cell_type": "code",
   "execution_count": 44,
   "id": "4b59c3b7",
   "metadata": {},
   "outputs": [
    {
     "data": {
      "text/plain": [
       "(array([[ 2,  3,  4],\n",
       "        [ 8,  9, 10]]),\n",
       " array([[[ 1,  2,  3],\n",
       "         [ 4,  5,  6],\n",
       "         [ 7,  8,  9]],\n",
       " \n",
       "        [[10, 11, 12],\n",
       "         [13, 14, 15],\n",
       "         [16, 17, 18]]]))"
      ]
     },
     "execution_count": 44,
     "metadata": {},
     "output_type": "execute_result"
    }
   ],
   "source": [
    "a2, a3"
   ]
  },
  {
   "cell_type": "code",
   "execution_count": 45,
   "id": "02743548",
   "metadata": {},
   "outputs": [
    {
     "data": {
      "text/plain": [
       "((2, 3), (2, 3, 3))"
      ]
     },
     "execution_count": 45,
     "metadata": {},
     "output_type": "execute_result"
    }
   ],
   "source": [
    "a2.shape, a3.shape"
   ]
  },
  {
   "cell_type": "code",
   "execution_count": 46,
   "id": "69c12c09",
   "metadata": {},
   "outputs": [
    {
     "data": {
      "text/plain": [
       "array([[[ 2],\n",
       "        [ 3],\n",
       "        [ 4]],\n",
       "\n",
       "       [[ 8],\n",
       "        [ 9],\n",
       "        [10]]])"
      ]
     },
     "execution_count": 46,
     "metadata": {},
     "output_type": "execute_result"
    }
   ],
   "source": [
    "a2_reshape = a2.reshape(2,3,1)\n",
    "a2_reshape"
   ]
  },
  {
   "cell_type": "code",
   "execution_count": 47,
   "id": "c60e3f17",
   "metadata": {},
   "outputs": [
    {
     "data": {
      "text/plain": [
       "((2, 3, 1), (2, 3, 3))"
      ]
     },
     "execution_count": 47,
     "metadata": {},
     "output_type": "execute_result"
    }
   ],
   "source": [
    "a2_reshape.shape, a3.shape"
   ]
  },
  {
   "cell_type": "code",
   "execution_count": 48,
   "id": "2f198e38",
   "metadata": {},
   "outputs": [
    {
     "data": {
      "text/plain": [
       "array([[[  2,   4,   6],\n",
       "        [ 12,  15,  18],\n",
       "        [ 28,  32,  36]],\n",
       "\n",
       "       [[ 80,  88,  96],\n",
       "        [117, 126, 135],\n",
       "        [160, 170, 180]]])"
      ]
     },
     "execution_count": 48,
     "metadata": {},
     "output_type": "execute_result"
    }
   ],
   "source": [
    "a2_reshape * a3"
   ]
  },
  {
   "cell_type": "code",
   "execution_count": 49,
   "id": "ceee2562",
   "metadata": {},
   "outputs": [
    {
     "data": {
      "text/plain": [
       "array([[ 2,  3],\n",
       "       [ 4,  8],\n",
       "       [ 9, 10]])"
      ]
     },
     "execution_count": 49,
     "metadata": {},
     "output_type": "execute_result"
    }
   ],
   "source": [
    "a2.reshape(3,2)"
   ]
  },
  {
   "cell_type": "code",
   "execution_count": 50,
   "id": "35558df5",
   "metadata": {},
   "outputs": [
    {
     "data": {
      "text/plain": [
       "(array([[ 2,  3,  4],\n",
       "        [ 8,  9, 10]]),\n",
       " array([[ 2,  8],\n",
       "        [ 3,  9],\n",
       "        [ 4, 10]]))"
      ]
     },
     "execution_count": 50,
     "metadata": {},
     "output_type": "execute_result"
    }
   ],
   "source": [
    "# Transpose - Swaps the axis\n",
    "a2, a2.T"
   ]
  },
  {
   "cell_type": "code",
   "execution_count": 51,
   "id": "4e27bee0",
   "metadata": {},
   "outputs": [
    {
     "data": {
      "text/plain": [
       "(array([[[ 1,  2,  3],\n",
       "         [ 4,  5,  6],\n",
       "         [ 7,  8,  9]],\n",
       " \n",
       "        [[10, 11, 12],\n",
       "         [13, 14, 15],\n",
       "         [16, 17, 18]]]),\n",
       " (2, 3, 3))"
      ]
     },
     "execution_count": 51,
     "metadata": {},
     "output_type": "execute_result"
    }
   ],
   "source": [
    "a3, a3.shape"
   ]
  },
  {
   "cell_type": "code",
   "execution_count": 52,
   "id": "37427729",
   "metadata": {},
   "outputs": [
    {
     "data": {
      "text/plain": [
       "(array([[[ 1, 10],\n",
       "         [ 4, 13],\n",
       "         [ 7, 16]],\n",
       " \n",
       "        [[ 2, 11],\n",
       "         [ 5, 14],\n",
       "         [ 8, 17]],\n",
       " \n",
       "        [[ 3, 12],\n",
       "         [ 6, 15],\n",
       "         [ 9, 18]]]),\n",
       " (3, 3, 2))"
      ]
     },
     "execution_count": 52,
     "metadata": {},
     "output_type": "execute_result"
    }
   ],
   "source": [
    "a3.T, a3.T.shape"
   ]
  },
  {
   "cell_type": "code",
   "execution_count": 53,
   "id": "8cc3368a",
   "metadata": {},
   "outputs": [],
   "source": [
    "rand = np.random.random((4,5,6,7))"
   ]
  },
  {
   "cell_type": "code",
   "execution_count": 54,
   "id": "02be7ba3",
   "metadata": {},
   "outputs": [
    {
     "data": {
      "text/plain": [
       "array([[[[0.05250608, 0.50127581, 0.27673311, 0.8840894 , 0.29357728,\n",
       "          0.84437448, 0.33561578],\n",
       "         [0.22335041, 0.22317445, 0.61135399, 0.1027555 , 0.60805086,\n",
       "          0.421481  , 0.53711711],\n",
       "         [0.23125611, 0.14718968, 0.92252221, 0.01088914, 0.1309937 ,\n",
       "          0.55106268, 0.6247317 ],\n",
       "         [0.98974066, 0.3184205 , 0.71224206, 0.25999406, 0.45040035,\n",
       "          0.24122055, 0.75846574],\n",
       "         [0.95470489, 0.96185686, 0.7836962 , 0.83370823, 0.34632161,\n",
       "          0.75494615, 0.34532076],\n",
       "         [0.03292952, 0.65776852, 0.20428457, 0.8583711 , 0.9954887 ,\n",
       "          0.48604129, 0.10144115]],\n",
       "\n",
       "        [[0.82163429, 0.20027118, 0.96954061, 0.69449791, 0.74442728,\n",
       "          0.86571188, 0.63286248],\n",
       "         [0.27647072, 0.62739659, 0.62979728, 0.47419205, 0.28583705,\n",
       "          0.71217964, 0.2764785 ],\n",
       "         [0.11292159, 0.66988987, 0.1988254 , 0.61020392, 0.54010368,\n",
       "          0.97408888, 0.46707972],\n",
       "         [0.84259723, 0.98726681, 0.62200408, 0.71893159, 0.81258706,\n",
       "          0.1185421 , 0.27538484],\n",
       "         [0.34556246, 0.63243624, 0.57708246, 0.98974406, 0.27675419,\n",
       "          0.79586396, 0.78900395],\n",
       "         [0.49682688, 0.30948002, 0.23803873, 0.06729153, 0.55476746,\n",
       "          0.39347223, 0.29628773]],\n",
       "\n",
       "        [[0.40347858, 0.36572856, 0.20342564, 0.67636913, 0.88893455,\n",
       "          0.71261519, 0.08707004],\n",
       "         [0.23693394, 0.05427136, 0.41057233, 0.26763207, 0.53706332,\n",
       "          0.37599546, 0.64049918],\n",
       "         [0.74404805, 0.73007836, 0.37859992, 0.74539839, 0.4333683 ,\n",
       "          0.75257422, 0.03094821],\n",
       "         [0.78471022, 0.62911102, 0.01784269, 0.50219388, 0.58205834,\n",
       "          0.81551958, 0.03936374],\n",
       "         [0.30767146, 0.47477873, 0.91546947, 0.57989299, 0.76835745,\n",
       "          0.37816658, 0.1215723 ],\n",
       "         [0.82474477, 0.86127325, 0.73595269, 0.82538637, 0.80422198,\n",
       "          0.01143403, 0.43826829]],\n",
       "\n",
       "        [[0.1464946 , 0.64451361, 0.00408298, 0.65467966, 0.85366227,\n",
       "          0.48277747, 0.43388941],\n",
       "         [0.16215491, 0.71344064, 0.49179432, 0.68941247, 0.81548483,\n",
       "          0.16156489, 0.16418122],\n",
       "         [0.71519979, 0.58597811, 0.39745993, 0.22608873, 0.66968277,\n",
       "          0.58307951, 0.14648466],\n",
       "         [0.2053109 , 0.7584062 , 0.25923471, 0.55145437, 0.22625332,\n",
       "          0.52736613, 0.4513513 ],\n",
       "         [0.85407656, 0.40013104, 0.57439511, 0.35026539, 0.44012355,\n",
       "          0.15453344, 0.67639331],\n",
       "         [0.36081158, 0.38988301, 0.36505453, 0.56051509, 0.54584871,\n",
       "          0.00421584, 0.64264115]],\n",
       "\n",
       "        [[0.58332421, 0.38366235, 0.77379061, 0.79256866, 0.93781612,\n",
       "          0.28788627, 0.295263  ],\n",
       "         [0.63682876, 0.21356513, 0.67377982, 0.46067134, 0.18841599,\n",
       "          0.69426701, 0.79461604],\n",
       "         [0.31542553, 0.48649912, 0.1471037 , 0.83808111, 0.65481548,\n",
       "          0.38137512, 0.40785302],\n",
       "         [0.81380554, 0.33379987, 0.2070552 , 0.71534329, 0.98012663,\n",
       "          0.97444857, 0.78578174],\n",
       "         [0.4393359 , 0.37703979, 0.01349981, 0.03734445, 0.75204745,\n",
       "          0.20024485, 0.6459571 ],\n",
       "         [0.38453826, 0.92980755, 0.98362248, 0.28949453, 0.2543543 ,\n",
       "          0.9150231 , 0.231586  ]]],\n",
       "\n",
       "\n",
       "       [[[0.35277938, 0.55254067, 0.02866741, 0.57529981, 0.88220854,\n",
       "          0.41831419, 0.24089341],\n",
       "         [0.06619478, 0.66452464, 0.62363875, 0.49786891, 0.85415842,\n",
       "          0.82948396, 0.61469904],\n",
       "         [0.08568592, 0.85063573, 0.44974101, 0.05634193, 0.09944852,\n",
       "          0.15388555, 0.19661087],\n",
       "         [0.35750038, 0.92541105, 0.14441023, 0.69960572, 0.13509449,\n",
       "          0.99742155, 0.36777858],\n",
       "         [0.54146122, 0.08554791, 0.48392139, 0.9820053 , 0.30921537,\n",
       "          0.29646172, 0.71628771],\n",
       "         [0.89582786, 0.03125315, 0.54482196, 0.85161806, 0.84416059,\n",
       "          0.20466664, 0.79633686]],\n",
       "\n",
       "        [[0.69047554, 0.30703109, 0.99330888, 0.02356793, 0.91755538,\n",
       "          0.92535024, 0.59601634],\n",
       "         [0.60342243, 0.23043469, 0.820922  , 0.37442139, 0.67065335,\n",
       "          0.71006974, 0.61928778],\n",
       "         [0.76211945, 0.77134485, 0.04447569, 0.93103494, 0.21059458,\n",
       "          0.6980558 , 0.43024415],\n",
       "         [0.1689048 , 0.36759035, 0.75383203, 0.98139594, 0.78830808,\n",
       "          0.42127349, 0.77314586],\n",
       "         [0.09882367, 0.87657407, 0.92774818, 0.25905533, 0.6753572 ,\n",
       "          0.39271643, 0.91067109],\n",
       "         [0.11168802, 0.88909662, 0.9235163 , 0.96763516, 0.34996941,\n",
       "          0.41981866, 0.30881258]],\n",
       "\n",
       "        [[0.70038009, 0.86443243, 0.30487593, 0.07969514, 0.2978568 ,\n",
       "          0.31881558, 0.94462195],\n",
       "         [0.11882049, 0.33650236, 0.52105299, 0.37247027, 0.96554067,\n",
       "          0.26000219, 0.66894707],\n",
       "         [0.86618218, 0.49026407, 0.0184117 , 0.71850408, 0.51009494,\n",
       "          0.392604  , 0.48336695],\n",
       "         [0.96088821, 0.48319406, 0.02091306, 0.93474969, 0.1756038 ,\n",
       "          0.88651813, 0.08458442],\n",
       "         [0.5963299 , 0.85904724, 0.17172989, 0.67788684, 0.95394615,\n",
       "          0.06338105, 0.2851604 ],\n",
       "         [0.08965664, 0.32106734, 0.46799592, 0.39640723, 0.28528169,\n",
       "          0.97763616, 0.21719497]],\n",
       "\n",
       "        [[0.78905807, 0.06158627, 0.76922863, 0.71524254, 0.12686907,\n",
       "          0.44959786, 0.92533708],\n",
       "         [0.90330862, 0.07064728, 0.80742154, 0.74226359, 0.85680965,\n",
       "          0.89782875, 0.57961864],\n",
       "         [0.67790202, 0.59289522, 0.58265614, 0.34293192, 0.13675984,\n",
       "          0.82475686, 0.74291277],\n",
       "         [0.29646955, 0.1725566 , 0.64904177, 0.51921204, 0.39238531,\n",
       "          0.41862376, 0.55486324],\n",
       "         [0.18037281, 0.90290532, 0.496733  , 0.73312315, 0.07853441,\n",
       "          0.38529277, 0.73546609],\n",
       "         [0.55389163, 0.15181976, 0.76640386, 0.68712506, 0.44442847,\n",
       "          0.62442365, 0.34168841]],\n",
       "\n",
       "        [[0.61866321, 0.88823669, 0.25622323, 0.25154762, 0.16261733,\n",
       "          0.18298696, 0.4815011 ],\n",
       "         [0.15223473, 0.65376142, 0.01828257, 0.74583258, 0.55520277,\n",
       "          0.20945339, 0.7135183 ],\n",
       "         [0.82540465, 0.50377988, 0.98092105, 0.50795646, 0.80826431,\n",
       "          0.6151668 , 0.97859724],\n",
       "         [0.41228358, 0.00208532, 0.90241187, 0.50932778, 0.62488681,\n",
       "          0.32481545, 0.49902308],\n",
       "         [0.04320212, 0.88225047, 0.68402061, 0.49035798, 0.2890713 ,\n",
       "          0.97546637, 0.41092636],\n",
       "         [0.04174917, 0.70117458, 0.94342525, 0.17446602, 0.99427184,\n",
       "          0.10134091, 0.90073181]]],\n",
       "\n",
       "\n",
       "       [[[0.26348404, 0.88107825, 0.35116327, 0.63183469, 0.12924006,\n",
       "          0.86841535, 0.66322834],\n",
       "         [0.89018639, 0.89059827, 0.99906272, 0.64451686, 0.01806415,\n",
       "          0.61121559, 0.73310427],\n",
       "         [0.06871212, 0.82770245, 0.29089735, 0.49198858, 0.54811158,\n",
       "          0.03407144, 0.13390287],\n",
       "         [0.81189256, 0.32303853, 0.42725152, 0.92398318, 0.32190712,\n",
       "          0.74098855, 0.07401795],\n",
       "         [0.40338171, 0.60979165, 0.87610294, 0.66982171, 0.76908129,\n",
       "          0.51285967, 0.24145666],\n",
       "         [0.65545024, 0.69357716, 0.10195869, 0.06273729, 0.48648764,\n",
       "          0.84824473, 0.96153235]],\n",
       "\n",
       "        [[0.2215042 , 0.3067904 , 0.54392951, 0.72557645, 0.56820048,\n",
       "          0.18093698, 0.63419166],\n",
       "         [0.02931586, 0.76601989, 0.86270843, 0.15637962, 0.78826496,\n",
       "          0.3227692 , 0.11366546],\n",
       "         [0.72055986, 0.45786453, 0.06450338, 0.3668278 , 0.92613844,\n",
       "          0.35853143, 0.68602222],\n",
       "         [0.55466116, 0.82872008, 0.91507789, 0.85012837, 0.45927497,\n",
       "          0.28576746, 0.58244875],\n",
       "         [0.65597256, 0.49376622, 0.93517428, 0.77052353, 0.67097085,\n",
       "          0.55379518, 0.17303632],\n",
       "         [0.45955773, 0.89900151, 0.23842388, 0.65538631, 0.10903344,\n",
       "          0.72223881, 0.99554749]],\n",
       "\n",
       "        [[0.60293632, 0.33321443, 0.86164256, 0.19020916, 0.30237497,\n",
       "          0.67851844, 0.23614017],\n",
       "         [0.17983917, 0.00295887, 0.37803403, 0.65714268, 0.94923699,\n",
       "          0.56749262, 0.07070521],\n",
       "         [0.78854025, 0.69108273, 0.38547116, 0.92984032, 0.65780559,\n",
       "          0.12597034, 0.64392011],\n",
       "         [0.57631057, 0.2453707 , 0.08551031, 0.2761321 , 0.68522154,\n",
       "          0.94442577, 0.77379832],\n",
       "         [0.77412108, 0.35712154, 0.46830632, 0.62453258, 0.59098352,\n",
       "          0.05102872, 0.23516848],\n",
       "         [0.74799452, 0.65397455, 0.63565698, 0.85145296, 0.46866545,\n",
       "          0.40150619, 0.24164166]],\n",
       "\n",
       "        [[0.79020172, 0.78596931, 0.11280907, 0.90170408, 0.47206331,\n",
       "          0.45147659, 0.24261278],\n",
       "         [0.43768855, 0.95323032, 0.32395106, 0.22500989, 0.64056485,\n",
       "          0.23099155, 0.22845005],\n",
       "         [0.30478093, 0.02512731, 0.77088411, 0.67197679, 0.07622333,\n",
       "          0.79103067, 0.61524989],\n",
       "         [0.66297287, 0.22072863, 0.95686081, 0.79749815, 0.83116931,\n",
       "          0.88759654, 0.50450088],\n",
       "         [0.60628528, 0.63447456, 0.68747423, 0.42553782, 0.60378955,\n",
       "          0.28064328, 0.62212533],\n",
       "         [0.30226875, 0.27399248, 0.12295911, 0.63419994, 0.8334233 ,\n",
       "          0.66232683, 0.09237261]],\n",
       "\n",
       "        [[0.32322871, 0.97697101, 0.36667803, 0.57817108, 0.24662614,\n",
       "          0.11283389, 0.76943872],\n",
       "         [0.63787963, 0.76370537, 0.82402386, 0.31288345, 0.07098727,\n",
       "          0.93470645, 0.23349505],\n",
       "         [0.98127407, 0.17516643, 0.2072954 , 0.55684868, 0.13032815,\n",
       "          0.68678316, 0.4732248 ],\n",
       "         [0.47597006, 0.22414202, 0.7533169 , 0.9525438 , 0.09676604,\n",
       "          0.38219216, 0.47048008],\n",
       "         [0.81318122, 0.68496866, 0.6627283 , 0.0569256 , 0.24292658,\n",
       "          0.34237521, 0.23409314],\n",
       "         [0.21040731, 0.83513607, 0.42822831, 0.04676572, 0.73094522,\n",
       "          0.68865289, 0.68288994]]],\n",
       "\n",
       "\n",
       "       [[[0.9583141 , 0.90738345, 0.9370072 , 0.22287496, 0.83867612,\n",
       "          0.47513342, 0.61689404],\n",
       "         [0.77850092, 0.85556758, 0.47073347, 0.75007035, 0.46938136,\n",
       "          0.98919465, 0.01148354],\n",
       "         [0.85980035, 0.74900072, 0.83121535, 0.87580376, 0.50484879,\n",
       "          0.35380165, 0.04259781],\n",
       "         [0.95565607, 0.11194766, 0.9535878 , 0.56245357, 0.22621485,\n",
       "          0.92103694, 0.38859593],\n",
       "         [0.54895696, 0.27680946, 0.49888559, 0.29946251, 0.65617425,\n",
       "          0.69030481, 0.60331365],\n",
       "         [0.68204736, 0.21996397, 0.29515925, 0.87836081, 0.91301328,\n",
       "          0.05228604, 0.32043176]],\n",
       "\n",
       "        [[0.12505564, 0.76344284, 0.07470767, 0.40730153, 0.51042053,\n",
       "          0.75864513, 0.18199931],\n",
       "         [0.03265739, 0.69613226, 0.84259751, 0.3573298 , 0.29728576,\n",
       "          0.48636706, 0.65424758],\n",
       "         [0.14583958, 0.09515856, 0.41147157, 0.81915237, 0.88765863,\n",
       "          0.04473092, 0.15153098],\n",
       "         [0.65019954, 0.8067454 , 0.65084533, 0.33250595, 0.73295102,\n",
       "          0.47455962, 0.84818458],\n",
       "         [0.45563943, 0.43902397, 0.32412997, 0.07529339, 0.46514273,\n",
       "          0.07467905, 0.59430528],\n",
       "         [0.29158195, 0.09923515, 0.11197505, 0.58376157, 0.49375677,\n",
       "          0.93814019, 0.26751629]],\n",
       "\n",
       "        [[0.84202664, 0.78719036, 0.01724515, 0.54572152, 0.41133614,\n",
       "          0.41724623, 0.22773129],\n",
       "         [0.68817937, 0.547281  , 0.95425514, 0.24275378, 0.88957212,\n",
       "          0.71326956, 0.29676498],\n",
       "         [0.95053574, 0.73132915, 0.3316964 , 0.79227054, 0.09595685,\n",
       "          0.87087455, 0.03822984],\n",
       "         [0.19082059, 0.71383278, 0.58925307, 0.84440524, 0.14560155,\n",
       "          0.6917614 , 0.22534479],\n",
       "         [0.00751557, 0.44699974, 0.81270631, 0.52801786, 0.21600953,\n",
       "          0.11207164, 0.71737025],\n",
       "         [0.71110987, 0.07735442, 0.72427486, 0.08589528, 0.49267125,\n",
       "          0.59117704, 0.90058111]],\n",
       "\n",
       "        [[0.74202086, 0.69802374, 0.32493386, 0.76304412, 0.42256506,\n",
       "          0.8950054 , 0.0561184 ],\n",
       "         [0.05519671, 0.41937793, 0.40413542, 0.71384406, 0.35082709,\n",
       "          0.27823914, 0.38312455],\n",
       "         [0.18338681, 0.98632438, 0.10142036, 0.69995812, 0.59967785,\n",
       "          0.44034352, 0.82675481],\n",
       "         [0.1648377 , 0.50788716, 0.16635374, 0.34514849, 0.792234  ,\n",
       "          0.32950218, 0.3196549 ],\n",
       "         [0.96225452, 0.65248041, 0.74792499, 0.49171333, 0.78787589,\n",
       "          0.22854412, 0.58449784],\n",
       "         [0.21913023, 0.67567911, 0.83717082, 0.84988613, 0.6673806 ,\n",
       "          0.23351382, 0.43652557]],\n",
       "\n",
       "        [[0.96768211, 0.47158016, 0.74089882, 0.71435477, 0.31434318,\n",
       "          0.16260351, 0.15003878],\n",
       "         [0.05055452, 0.43531296, 0.40006033, 0.65632391, 0.27278131,\n",
       "          0.70350551, 0.31892918],\n",
       "         [0.41809056, 0.39582226, 0.75810481, 0.89368841, 0.35611402,\n",
       "          0.161729  , 0.94303477],\n",
       "         [0.74007118, 0.27696754, 0.97479403, 0.90651346, 0.63584458,\n",
       "          0.66928023, 0.3592904 ],\n",
       "         [0.01017672, 0.4764659 , 0.21163784, 0.59716421, 0.94196119,\n",
       "          0.9605993 , 0.01923446],\n",
       "         [0.35414892, 0.71778644, 0.81203095, 0.25793187, 0.41539794,\n",
       "          0.2613561 , 0.67179338]]]])"
      ]
     },
     "execution_count": 54,
     "metadata": {},
     "output_type": "execute_result"
    }
   ],
   "source": [
    "rand"
   ]
  },
  {
   "cell_type": "code",
   "execution_count": 55,
   "id": "b2b15fa7",
   "metadata": {},
   "outputs": [
    {
     "data": {
      "text/plain": [
       "(4, 5, 6, 7)"
      ]
     },
     "execution_count": 55,
     "metadata": {},
     "output_type": "execute_result"
    }
   ],
   "source": [
    "rand.shape"
   ]
  },
  {
   "cell_type": "code",
   "execution_count": 56,
   "id": "3d06a121",
   "metadata": {},
   "outputs": [
    {
     "data": {
      "text/plain": [
       "(7, 6, 5, 4)"
      ]
     },
     "execution_count": 56,
     "metadata": {},
     "output_type": "execute_result"
    }
   ],
   "source": [
    "rand.T.shape"
   ]
  },
  {
   "cell_type": "markdown",
   "id": "6b740f4e",
   "metadata": {},
   "source": [
    "### Dot product"
   ]
  },
  {
   "cell_type": "code",
   "execution_count": 57,
   "id": "7bdcf76d",
   "metadata": {},
   "outputs": [],
   "source": [
    "np.random.seed(0)\n",
    "mat1 = np.random.randint(10, size = (5,3))\n",
    "mat2 = np.random.randint(10, size = (5,3))"
   ]
  },
  {
   "cell_type": "code",
   "execution_count": 58,
   "id": "aad40b59",
   "metadata": {},
   "outputs": [
    {
     "data": {
      "text/plain": [
       "(array([[5, 0, 3],\n",
       "        [3, 7, 9],\n",
       "        [3, 5, 2],\n",
       "        [4, 7, 6],\n",
       "        [8, 8, 1]]),\n",
       " array([[6, 7, 7],\n",
       "        [8, 1, 5],\n",
       "        [9, 8, 9],\n",
       "        [4, 3, 0],\n",
       "        [3, 5, 0]]))"
      ]
     },
     "execution_count": 58,
     "metadata": {},
     "output_type": "execute_result"
    }
   ],
   "source": [
    "mat1, mat2"
   ]
  },
  {
   "cell_type": "code",
   "execution_count": 59,
   "id": "6a9b5609",
   "metadata": {},
   "outputs": [
    {
     "data": {
      "text/plain": [
       "((5, 3), (5, 3))"
      ]
     },
     "execution_count": 59,
     "metadata": {},
     "output_type": "execute_result"
    }
   ],
   "source": [
    "mat1.shape, mat2.shape"
   ]
  },
  {
   "cell_type": "code",
   "execution_count": 60,
   "id": "65ddab39",
   "metadata": {},
   "outputs": [
    {
     "data": {
      "text/plain": [
       "array([[30,  0, 21],\n",
       "       [24,  7, 45],\n",
       "       [27, 40, 18],\n",
       "       [16, 21,  0],\n",
       "       [24, 40,  0]])"
      ]
     },
     "execution_count": 60,
     "metadata": {},
     "output_type": "execute_result"
    }
   ],
   "source": [
    "# Element wise (hadamard product)\n",
    "mat1 * mat2"
   ]
  },
  {
   "cell_type": "code",
   "execution_count": 61,
   "id": "bde6eb38",
   "metadata": {},
   "outputs": [
    {
     "data": {
      "text/plain": [
       "array([[30,  0, 21],\n",
       "       [24,  7, 45],\n",
       "       [27, 40, 18],\n",
       "       [16, 21,  0],\n",
       "       [24, 40,  0]])"
      ]
     },
     "execution_count": 61,
     "metadata": {},
     "output_type": "execute_result"
    }
   ],
   "source": [
    "np.multiply(mat1, mat2)"
   ]
  },
  {
   "cell_type": "code",
   "execution_count": 62,
   "id": "a9339c90",
   "metadata": {},
   "outputs": [],
   "source": [
    "# dot with mat1 5x3 , the 3 row must match the 3 column of next array \n",
    "mat3 = np.dot(mat1, mat2.T)"
   ]
  },
  {
   "cell_type": "code",
   "execution_count": 63,
   "id": "fea68b13",
   "metadata": {},
   "outputs": [
    {
     "data": {
      "text/plain": [
       "(array([[ 51,  55,  72,  20,  15],\n",
       "        [130,  76, 164,  33,  44],\n",
       "        [ 67,  39,  85,  27,  34],\n",
       "        [115,  69, 146,  37,  47],\n",
       "        [111,  77, 145,  56,  64]]),\n",
       " (5, 5))"
      ]
     },
     "execution_count": 63,
     "metadata": {},
     "output_type": "execute_result"
    }
   ],
   "source": [
    "mat3, mat3.shape"
   ]
  },
  {
   "cell_type": "markdown",
   "id": "677c0efe",
   "metadata": {},
   "source": [
    "### Dot product example"
   ]
  },
  {
   "cell_type": "code",
   "execution_count": 64,
   "id": "56740a4f",
   "metadata": {},
   "outputs": [
    {
     "data": {
      "text/plain": [
       "array([[12, 15,  0],\n",
       "       [ 3,  3,  7],\n",
       "       [ 9, 19, 18],\n",
       "       [ 4,  6, 12],\n",
       "       [ 1,  6,  7]])"
      ]
     },
     "execution_count": 64,
     "metadata": {},
     "output_type": "execute_result"
    }
   ],
   "source": [
    "np.random.seed(0)\n",
    "sales_amounts = np.random.randint(20, size = (5,3))\n",
    "sales_amounts"
   ]
  },
  {
   "cell_type": "code",
   "execution_count": 65,
   "id": "82fb9421",
   "metadata": {},
   "outputs": [],
   "source": [
    "import pandas as pd\n",
    "weekly_sales = pd.DataFrame(sales_amounts, \n",
    "                            index=[\"Mon\", \"Tue\", \"Wed\", \"Thu\", \"Fri\"],\n",
    "                            columns = [\"Almond butter\", \"Peanut butter\", \"Chashew butter\"]\n",
    "                           )"
   ]
  },
  {
   "cell_type": "code",
   "execution_count": 66,
   "id": "3b5cadb8",
   "metadata": {},
   "outputs": [
    {
     "data": {
      "text/html": [
       "<div>\n",
       "<style scoped>\n",
       "    .dataframe tbody tr th:only-of-type {\n",
       "        vertical-align: middle;\n",
       "    }\n",
       "\n",
       "    .dataframe tbody tr th {\n",
       "        vertical-align: top;\n",
       "    }\n",
       "\n",
       "    .dataframe thead th {\n",
       "        text-align: right;\n",
       "    }\n",
       "</style>\n",
       "<table border=\"1\" class=\"dataframe\">\n",
       "  <thead>\n",
       "    <tr style=\"text-align: right;\">\n",
       "      <th></th>\n",
       "      <th>Almond butter</th>\n",
       "      <th>Peanut butter</th>\n",
       "      <th>Chashew butter</th>\n",
       "    </tr>\n",
       "  </thead>\n",
       "  <tbody>\n",
       "    <tr>\n",
       "      <th>Mon</th>\n",
       "      <td>12</td>\n",
       "      <td>15</td>\n",
       "      <td>0</td>\n",
       "    </tr>\n",
       "    <tr>\n",
       "      <th>Tue</th>\n",
       "      <td>3</td>\n",
       "      <td>3</td>\n",
       "      <td>7</td>\n",
       "    </tr>\n",
       "    <tr>\n",
       "      <th>Wed</th>\n",
       "      <td>9</td>\n",
       "      <td>19</td>\n",
       "      <td>18</td>\n",
       "    </tr>\n",
       "    <tr>\n",
       "      <th>Thu</th>\n",
       "      <td>4</td>\n",
       "      <td>6</td>\n",
       "      <td>12</td>\n",
       "    </tr>\n",
       "    <tr>\n",
       "      <th>Fri</th>\n",
       "      <td>1</td>\n",
       "      <td>6</td>\n",
       "      <td>7</td>\n",
       "    </tr>\n",
       "  </tbody>\n",
       "</table>\n",
       "</div>"
      ],
      "text/plain": [
       "     Almond butter  Peanut butter  Chashew butter\n",
       "Mon             12             15               0\n",
       "Tue              3              3               7\n",
       "Wed              9             19              18\n",
       "Thu              4              6              12\n",
       "Fri              1              6               7"
      ]
     },
     "execution_count": 66,
     "metadata": {},
     "output_type": "execute_result"
    }
   ],
   "source": [
    "weekly_sales"
   ]
  },
  {
   "cell_type": "code",
   "execution_count": 67,
   "id": "f581af2e",
   "metadata": {},
   "outputs": [],
   "source": [
    "# prices array\n",
    "prices = np.array([10,8,12])"
   ]
  },
  {
   "cell_type": "code",
   "execution_count": 68,
   "id": "b2904934",
   "metadata": {},
   "outputs": [],
   "source": [
    "# create butter prices dataframe\n",
    "butter_prices = pd.DataFrame(prices.reshape(1,3), index=[\"Price\"],columns = [\"Almond butter\", \"Peanut butter\", \"Chashew butter\"])"
   ]
  },
  {
   "cell_type": "code",
   "execution_count": 69,
   "id": "8152ef06",
   "metadata": {},
   "outputs": [
    {
     "data": {
      "text/html": [
       "<div>\n",
       "<style scoped>\n",
       "    .dataframe tbody tr th:only-of-type {\n",
       "        vertical-align: middle;\n",
       "    }\n",
       "\n",
       "    .dataframe tbody tr th {\n",
       "        vertical-align: top;\n",
       "    }\n",
       "\n",
       "    .dataframe thead th {\n",
       "        text-align: right;\n",
       "    }\n",
       "</style>\n",
       "<table border=\"1\" class=\"dataframe\">\n",
       "  <thead>\n",
       "    <tr style=\"text-align: right;\">\n",
       "      <th></th>\n",
       "      <th>Almond butter</th>\n",
       "      <th>Peanut butter</th>\n",
       "      <th>Chashew butter</th>\n",
       "    </tr>\n",
       "  </thead>\n",
       "  <tbody>\n",
       "    <tr>\n",
       "      <th>Price</th>\n",
       "      <td>10</td>\n",
       "      <td>8</td>\n",
       "      <td>12</td>\n",
       "    </tr>\n",
       "  </tbody>\n",
       "</table>\n",
       "</div>"
      ],
      "text/plain": [
       "       Almond butter  Peanut butter  Chashew butter\n",
       "Price             10              8              12"
      ]
     },
     "execution_count": 69,
     "metadata": {},
     "output_type": "execute_result"
    }
   ],
   "source": [
    "butter_prices"
   ]
  },
  {
   "cell_type": "code",
   "execution_count": 70,
   "id": "a2d415a9",
   "metadata": {},
   "outputs": [
    {
     "data": {
      "text/plain": [
       "((5, 3), (1, 3))"
      ]
     },
     "execution_count": 70,
     "metadata": {},
     "output_type": "execute_result"
    }
   ],
   "source": [
    "sales_amounts.shape, butter_prices.shape"
   ]
  },
  {
   "cell_type": "code",
   "execution_count": 71,
   "id": "be2c657b",
   "metadata": {},
   "outputs": [
    {
     "data": {
      "text/plain": [
       "array([240, 138, 458, 232, 142])"
      ]
     },
     "execution_count": 71,
     "metadata": {},
     "output_type": "execute_result"
    }
   ],
   "source": [
    "total_sales = prices.dot(sales_amounts.T)\n",
    "total_sales"
   ]
  },
  {
   "cell_type": "code",
   "execution_count": 72,
   "id": "3fee6008",
   "metadata": {},
   "outputs": [],
   "source": [
    "weekly_sales[\"Total ($)\"] = total_sales"
   ]
  },
  {
   "cell_type": "code",
   "execution_count": 73,
   "id": "fe1a5f1d",
   "metadata": {},
   "outputs": [
    {
     "data": {
      "text/html": [
       "<div>\n",
       "<style scoped>\n",
       "    .dataframe tbody tr th:only-of-type {\n",
       "        vertical-align: middle;\n",
       "    }\n",
       "\n",
       "    .dataframe tbody tr th {\n",
       "        vertical-align: top;\n",
       "    }\n",
       "\n",
       "    .dataframe thead th {\n",
       "        text-align: right;\n",
       "    }\n",
       "</style>\n",
       "<table border=\"1\" class=\"dataframe\">\n",
       "  <thead>\n",
       "    <tr style=\"text-align: right;\">\n",
       "      <th></th>\n",
       "      <th>Almond butter</th>\n",
       "      <th>Peanut butter</th>\n",
       "      <th>Chashew butter</th>\n",
       "      <th>Total ($)</th>\n",
       "    </tr>\n",
       "  </thead>\n",
       "  <tbody>\n",
       "    <tr>\n",
       "      <th>Mon</th>\n",
       "      <td>12</td>\n",
       "      <td>15</td>\n",
       "      <td>0</td>\n",
       "      <td>240</td>\n",
       "    </tr>\n",
       "    <tr>\n",
       "      <th>Tue</th>\n",
       "      <td>3</td>\n",
       "      <td>3</td>\n",
       "      <td>7</td>\n",
       "      <td>138</td>\n",
       "    </tr>\n",
       "    <tr>\n",
       "      <th>Wed</th>\n",
       "      <td>9</td>\n",
       "      <td>19</td>\n",
       "      <td>18</td>\n",
       "      <td>458</td>\n",
       "    </tr>\n",
       "    <tr>\n",
       "      <th>Thu</th>\n",
       "      <td>4</td>\n",
       "      <td>6</td>\n",
       "      <td>12</td>\n",
       "      <td>232</td>\n",
       "    </tr>\n",
       "    <tr>\n",
       "      <th>Fri</th>\n",
       "      <td>1</td>\n",
       "      <td>6</td>\n",
       "      <td>7</td>\n",
       "      <td>142</td>\n",
       "    </tr>\n",
       "  </tbody>\n",
       "</table>\n",
       "</div>"
      ],
      "text/plain": [
       "     Almond butter  Peanut butter  Chashew butter  Total ($)\n",
       "Mon             12             15               0        240\n",
       "Tue              3              3               7        138\n",
       "Wed              9             19              18        458\n",
       "Thu              4              6              12        232\n",
       "Fri              1              6               7        142"
      ]
     },
     "execution_count": 73,
     "metadata": {},
     "output_type": "execute_result"
    }
   ],
   "source": [
    "weekly_sales"
   ]
  },
  {
   "cell_type": "code",
   "execution_count": null,
   "id": "cd203273",
   "metadata": {},
   "outputs": [],
   "source": []
  },
  {
   "cell_type": "markdown",
   "id": "53953422",
   "metadata": {},
   "source": [
    "## Comparision Operators"
   ]
  },
  {
   "cell_type": "code",
   "execution_count": 74,
   "id": "74880c7a",
   "metadata": {},
   "outputs": [
    {
     "data": {
      "text/plain": [
       "(array([1, 2, 3]),\n",
       " array([[ 2,  3,  4],\n",
       "        [ 8,  9, 10]]))"
      ]
     },
     "execution_count": 74,
     "metadata": {},
     "output_type": "execute_result"
    }
   ],
   "source": [
    "a1, a2"
   ]
  },
  {
   "cell_type": "code",
   "execution_count": 75,
   "id": "a19bf884",
   "metadata": {},
   "outputs": [
    {
     "data": {
      "text/plain": [
       "array([[False, False, False],\n",
       "       [False, False, False]])"
      ]
     },
     "execution_count": 75,
     "metadata": {},
     "output_type": "execute_result"
    }
   ],
   "source": [
    "a1> a2"
   ]
  },
  {
   "cell_type": "code",
   "execution_count": 76,
   "id": "cd7118fa",
   "metadata": {},
   "outputs": [
    {
     "data": {
      "text/plain": [
       "array([[False, False, False],\n",
       "       [False, False, False]])"
      ]
     },
     "execution_count": 76,
     "metadata": {},
     "output_type": "execute_result"
    }
   ],
   "source": [
    "bool_array = a1>=a2\n",
    "bool_array"
   ]
  },
  {
   "cell_type": "code",
   "execution_count": 77,
   "id": "e5af52a7",
   "metadata": {},
   "outputs": [
    {
     "data": {
      "text/plain": [
       "dtype('bool')"
      ]
     },
     "execution_count": 77,
     "metadata": {},
     "output_type": "execute_result"
    }
   ],
   "source": [
    "bool_array.dtype"
   ]
  },
  {
   "cell_type": "code",
   "execution_count": 78,
   "id": "b99b5039",
   "metadata": {},
   "outputs": [
    {
     "data": {
      "text/plain": [
       "array([False,  True,  True])"
      ]
     },
     "execution_count": 78,
     "metadata": {},
     "output_type": "execute_result"
    }
   ],
   "source": [
    "a1>1"
   ]
  },
  {
   "cell_type": "code",
   "execution_count": 79,
   "id": "36bae579",
   "metadata": {},
   "outputs": [
    {
     "data": {
      "text/plain": [
       "array([[ True,  True,  True],\n",
       "       [ True,  True,  True]])"
      ]
     },
     "execution_count": 79,
     "metadata": {},
     "output_type": "execute_result"
    }
   ],
   "source": [
    "a1<=a2"
   ]
  },
  {
   "cell_type": "code",
   "execution_count": 80,
   "id": "ffc78212",
   "metadata": {},
   "outputs": [
    {
     "data": {
      "text/plain": [
       "array([False,  True,  True])"
      ]
     },
     "execution_count": 80,
     "metadata": {},
     "output_type": "execute_result"
    }
   ],
   "source": [
    "a1!=1"
   ]
  },
  {
   "cell_type": "code",
   "execution_count": 81,
   "id": "c380922a",
   "metadata": {},
   "outputs": [],
   "source": [
    "random_array = np.random.randint(10,20,(3,4))"
   ]
  },
  {
   "cell_type": "code",
   "execution_count": 82,
   "id": "6d82e70c",
   "metadata": {},
   "outputs": [
    {
     "data": {
      "text/plain": [
       "array([[17, 18, 11, 15],\n",
       "       [19, 18, 19, 14],\n",
       "       [13, 10, 13, 15]])"
      ]
     },
     "execution_count": 82,
     "metadata": {},
     "output_type": "execute_result"
    }
   ],
   "source": [
    "random_array"
   ]
  },
  {
   "cell_type": "code",
   "execution_count": 83,
   "id": "46bba766",
   "metadata": {},
   "outputs": [
    {
     "data": {
      "text/plain": [
       "array([[11, 15, 17, 18],\n",
       "       [14, 18, 19, 19],\n",
       "       [10, 13, 13, 15]])"
      ]
     },
     "execution_count": 83,
     "metadata": {},
     "output_type": "execute_result"
    }
   ],
   "source": [
    "np.sort(random_array)"
   ]
  },
  {
   "cell_type": "code",
   "execution_count": 84,
   "id": "3c8794af",
   "metadata": {},
   "outputs": [
    {
     "data": {
      "text/plain": [
       "array([[2, 3, 0, 1],\n",
       "       [3, 1, 0, 2],\n",
       "       [1, 0, 2, 3]], dtype=int64)"
      ]
     },
     "execution_count": 84,
     "metadata": {},
     "output_type": "execute_result"
    }
   ],
   "source": [
    "np.argsort(random_array)"
   ]
  },
  {
   "cell_type": "code",
   "execution_count": 85,
   "id": "7128f7e0",
   "metadata": {},
   "outputs": [
    {
     "data": {
      "text/plain": [
       "array([2, 3, 1], dtype=int64)"
      ]
     },
     "execution_count": 85,
     "metadata": {},
     "output_type": "execute_result"
    }
   ],
   "source": [
    "np.argmin(random_array, axis = 1)"
   ]
  },
  {
   "cell_type": "code",
   "execution_count": 86,
   "id": "6c619621",
   "metadata": {},
   "outputs": [
    {
     "data": {
      "text/plain": [
       "array([1, 0, 1, 0], dtype=int64)"
      ]
     },
     "execution_count": 86,
     "metadata": {},
     "output_type": "execute_result"
    }
   ],
   "source": [
    "np.argmax(random_array, axis = 0)"
   ]
  },
  {
   "cell_type": "code",
   "execution_count": 88,
   "id": "e1747273",
   "metadata": {},
   "outputs": [
    {
     "data": {
      "text/plain": [
       "array([1, 0, 3], dtype=int64)"
      ]
     },
     "execution_count": 88,
     "metadata": {},
     "output_type": "execute_result"
    }
   ],
   "source": [
    "np.argmax(random_array, axis = 1)"
   ]
  }
 ],
 "metadata": {
  "kernelspec": {
   "display_name": "Python 3",
   "language": "python",
   "name": "python3"
  },
  "language_info": {
   "codemirror_mode": {
    "name": "ipython",
    "version": 3
   },
   "file_extension": ".py",
   "mimetype": "text/x-python",
   "name": "python",
   "nbconvert_exporter": "python",
   "pygments_lexer": "ipython3",
   "version": "3.8.8"
  }
 },
 "nbformat": 4,
 "nbformat_minor": 5
}
